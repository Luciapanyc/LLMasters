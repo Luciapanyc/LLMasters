{
 "cells": [
  {
   "cell_type": "markdown",
   "metadata": {},
   "source": [
    "# 0. Imports"
   ]
  },
  {
   "cell_type": "code",
   "execution_count": 10,
   "metadata": {},
   "outputs": [],
   "source": [
    "from h2ogpte import H2OGPTE\n",
    "import numpy as np\n",
    "import pandas as pd\n",
    "import os"
   ]
  },
  {
   "cell_type": "markdown",
   "metadata": {},
   "source": [
    "# 1. Data Sets"
   ]
  },
  {
   "cell_type": "code",
   "execution_count": 4,
   "metadata": {},
   "outputs": [],
   "source": [
    "songs = pd.read_csv('../data/songs_short.csv')\n",
    "user = pd.read_csv('../data/user.csv')\n",
    "history = pd.read_csv('../data/listening history.csv')"
   ]
  },
  {
   "cell_type": "code",
   "execution_count": null,
   "metadata": {},
   "outputs": [],
   "source": [
    "print('Songs:')\n",
    "print(songs.head())\n",
    "\n",
    "print('Users:')\n",
    "print(user.head())\n",
    "\n",
    "print('User listening history:')\n",
    "print(history.head())"
   ]
  },
  {
   "cell_type": "markdown",
   "metadata": {},
   "source": [
    "# 2. h2o Model"
   ]
  },
  {
   "cell_type": "code",
   "execution_count": 9,
   "metadata": {},
   "outputs": [],
   "source": [
    "client = H2OGPTE(\n",
    "    address='https://h2ogpte.genai.h2o.ai',\n",
    "    api_key='sk-e4vXVj35STQ15msFSdaeZPDo0xvCElTK4Q0hw9F1LUjgTJov',\n",
    ")"
   ]
  },
  {
   "cell_type": "code",
   "execution_count": 11,
   "metadata": {},
   "outputs": [],
   "source": [
    "# Create Collection\n",
    "collection_id = client.create_collection(\n",
    "    name=\"MusicRecco\",\n",
    "    description=\"Music Reccommender\",\n",
    ")"
   ]
  },
  {
   "cell_type": "code",
   "execution_count": 18,
   "metadata": {},
   "outputs": [],
   "source": [
    "# Convert Data to Readable Format\n",
    "songs_txt = songs.to_csv(index=False)\n",
    "user_txt = user.to_csv(index=False)\n",
    "history_txt = history.to_csv(index=False)"
   ]
  },
  {
   "cell_type": "code",
   "execution_count": 19,
   "metadata": {},
   "outputs": [
    {
     "data": {
      "text/plain": [
       "Job(id='e0c202c7-a81a-45a1-adb9-a53adffef26b', name='Adding documents', passed=1.0, failed=0.0, progress=1.0, completed=True, canceled=False, date=datetime.datetime(2024, 3, 31, 6, 47, 42, tzinfo=TzInfo(UTC)), kind=<JobKind.IngestUploadsJob: 'IngestUploadsJob'>, statuses=[JobStatus(id='f6f52470dca241bbb96b6ff5d2649e4a', status='Indexing done.'), JobStatus(id='36fea923bf79437c86bd632a60267d92', status='Indexing done.')], errors=[], last_update_date=datetime.datetime(2024, 3, 31, 6, 47, 56, tzinfo=TzInfo(UTC)), duration='14s', duration_seconds=14.0)"
      ]
     },
     "execution_count": 19,
     "metadata": {},
     "output_type": "execute_result"
    }
   ],
   "source": [
    "# Upload\n",
    "songs_data = client.upload('songs_short.txt', songs_txt.encode())\n",
    "user_data = client.upload('user.txt', user_txt.encode())\n",
    "history_data = client.upload('listening_history.txt', history_txt.encode())\n",
    "\n",
    "# Ingest the uploaded data\n",
    "client.ingest_uploads(collection_id, [songs_data, user_data, history_data])"
   ]
  },
  {
   "cell_type": "markdown",
   "metadata": {},
   "source": [
    "# 3. ChatBot Page"
   ]
  },
  {
   "cell_type": "code",
   "execution_count": 20,
   "metadata": {},
   "outputs": [],
   "source": [
    "#Initiate Chat\n",
    "chat_session_id = client.create_chat_session(collection_id)"
   ]
  },
  {
   "cell_type": "code",
   "execution_count": 21,
   "metadata": {},
   "outputs": [
    {
     "name": "stdout",
     "output_type": "stream",
     "text": [
      "Based on your user information, you have listed rock, r&b, and pop as your preferred genres. Here are five songs that are similar to your taste:\n",
      "\n",
      "1. \"Bohemian Rhapsody\" by Queen (rock)\n",
      "2. \"Crazy in Love\" by Beyoncé ft. Jay-Z (r&b/pop)\n",
      "3. \"Mr. Brightside\" by The Killers (rock/pop)\n",
      "4. \"No Scrubs\" by TLC (r&b)\n",
      "5. \"I Wanna Dance with Somebody\" by Whitney Houston (pop)\n"
     ]
    }
   ],
   "source": [
    "with client.connect(chat_session_id) as session:\n",
    "    # Simple Question for Document Collection\n",
    "        answer = session.query(\n",
    "        message=\"I am user sibyl. Reccomend me songs similar to my taste\",\n",
    "        system_prompt = 'Assume music and song to be the same word. When a question as for a similar music, recommend less than 5 music unless told otherwise. Find similar music based on genre and other factors such as danceability, loudness, speechiness and more. Just return the song name, unless stated otherwise.' ,\n",
    "        rag_config={\n",
    "            \"rag_type\": \"rag\",\n",
    "        },\n",
    "        ).content\n",
    "        print(answer)\n"
   ]
  }
 ],
 "metadata": {
  "kernelspec": {
   "display_name": "Python 3",
   "language": "python",
   "name": "python3"
  },
  "language_info": {
   "codemirror_mode": {
    "name": "ipython",
    "version": 3
   },
   "file_extension": ".py",
   "mimetype": "text/x-python",
   "name": "python",
   "nbconvert_exporter": "python",
   "pygments_lexer": "ipython3",
   "version": "3.11.4"
  }
 },
 "nbformat": 4,
 "nbformat_minor": 2
}
