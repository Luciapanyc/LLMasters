{
 "cells": [
  {
   "cell_type": "code",
   "execution_count": 14,
   "metadata": {},
   "outputs": [],
   "source": [
    "import numpy as np\n",
    "import pandas as pd\n",
    "import os"
   ]
  },
  {
   "cell_type": "code",
   "execution_count": 15,
   "metadata": {},
   "outputs": [],
   "source": [
    "songs = pd.read_csv('../data/songs_short.csv')\n",
    "user = pd.read_csv('../data/user.csv')\n",
    "history = pd.read_csv('../data/listening history.csv')\n"
   ]
  },
  {
   "cell_type": "code",
   "execution_count": 16,
   "metadata": {},
   "outputs": [
    {
     "name": "stdout",
     "output_type": "stream",
     "text": [
      "Songs head:\n",
      "               spotify_id                          Song         Artist  Rank  \\\n",
      "0  4H2TRR9FjnnIwxGnIt9stO                  Killin' Time    Clint Black     1   \n",
      "1  6iy4PoAuZBMvtrlDX4VxC7               Check Yes Or No  George Strait     2   \n",
      "2  3oW6SWwGqiZSPTiAp7ZQoH  It's A Great Day To Be Alive   Travis Tritt     3   \n",
      "3  7lUE02KHkZM44BZgjCaWRO            Meet in the Middle    Diamond Rio     4   \n",
      "4  1ecIqo8pOc8S6y3l80iGxd                         Fancy  Reba McEntire     5   \n",
      "\n",
      "     Genre  \n",
      "0  country  \n",
      "1  country  \n",
      "2  country  \n",
      "3  country  \n",
      "4  country  \n",
      "User head:\n",
      "   ID  Password                 Name Genre 1  Genre 2  Genre 3\n",
      "0   1         1           Sibyl Bode    rock      r&b      pop\n",
      "1   2         2    Eleazar Hettinger     rap     soul  hip hop\n",
      "2   3         3        Geovanny Lang     rap  country     soul\n",
      "3   4         4    Micah Satterfield    jazz      r&b     soul\n",
      "4   5         5  Courtney Schowalter    soul     folk    metal\n",
      "History head:\n",
      "   User              spotify_id  Number of Times  Genre\n",
      "0   1.0  2aoo2jlRnM3A0NyLQqMN2f               4.0  rock\n",
      "1   1.0  31t0ATifZW5CW3XP2QUsUW              10.0   pop\n",
      "2   1.0  1hGy2eLcmC8eKx7qr1tOqx              20.0   pop\n",
      "3   1.0  6TlRNJaezOdzdECnQeRuMM              19.0   r&b\n",
      "4   1.0  5d4l67BejhQZ9uQtTCfYfL               4.0   r&b\n"
     ]
    }
   ],
   "source": [
    "print(\"Songs head:\")\n",
    "print(songs.head())\n",
    "\n",
    "print(\"User head:\")\n",
    "print(user.head())\n",
    "\n",
    "print(\"History head:\")\n",
    "print(history.head())"
   ]
  },
  {
   "cell_type": "code",
   "execution_count": 17,
   "metadata": {},
   "outputs": [],
   "source": [
    "# Convert DataFrames to HTML tables for h2o to read\n",
    "songs_html = songs.to_html(index=False)\n",
    "user_html = user.to_html(index=False)\n",
    "history_html = history.to_html(index=False)\n",
    "\n",
    "# Save HTML tables to files\n",
    "songs_path = '../data/songs_short.html'\n",
    "user_path = '../data/user.html'\n",
    "history_path = '../data/listening history.html'\n",
    "\n",
    "# Write HTML content to files\n",
    "with open(songs_path, \"w\", encoding=\"utf-8\") as f:\n",
    "    f.write(songs_html)\n",
    "\n",
    "with open(user_path, \"w\", encoding=\"utf-8\") as f:\n",
    "    f.write(user_html)\n",
    "\n",
    "with open(history_path, \"w\", encoding=\"utf-8\") as f:\n",
    "    f.write(history_html)"
   ]
  },
  {
   "cell_type": "code",
   "execution_count": 18,
   "metadata": {},
   "outputs": [],
   "source": [
    "from h2ogpte import H2OGPTE"
   ]
  },
  {
   "cell_type": "code",
   "execution_count": 22,
   "metadata": {},
   "outputs": [
    {
     "data": {
      "text/plain": [
       "Job(id='84d588ba-de66-45a1-a53b-cc981048ff34', name='Adding documents', passed=1.0, failed=0.0, progress=1.0, completed=True, canceled=False, date=datetime.datetime(2024, 3, 28, 5, 48, 30, tzinfo=TzInfo(UTC)), kind=<JobKind.IngestUploadsJob: 'IngestUploadsJob'>, statuses=[JobStatus(id='36fea923bf79437c86bd632a60267d92', status='Indexing done.'), JobStatus(id='f6f52470dca241bbb96b6ff5d2649e4a', status='Collecting done.')], errors=[], last_update_date=datetime.datetime(2024, 3, 28, 5, 48, 35, tzinfo=TzInfo(UTC)), duration='5s', duration_seconds=5.0)"
      ]
     },
     "execution_count": 22,
     "metadata": {},
     "output_type": "execute_result"
    }
   ],
   "source": [
    "client = H2OGPTE(\n",
    "    address='https://h2ogpte.genai.h2o.ai',\n",
    "    api_key='sk-ms7SU43E34tS9UJks5RD2KM3m1JumOR2pM73Dk95VzKjM6TZ',\n",
    ")\n",
    "\n",
    "# Create Collection\n",
    "collection_id = client.create_collection(\n",
    "    name=\"Musicrecco\",\n",
    "    description=\"Music Reccomendation Chatbot\",\n",
    ")\n",
    "\n",
    "# Save HTML tables to files\n",
    "songs_path = '../data/archive/songs_short.xlsx'\n",
    "user_path = '../data/archive/user.xlsx'\n",
    "history_path = '../data/archive/listening history.xlsx'\n",
    "\n",
    "# Open files for h2o\n",
    "with open(songs_path, \"rb\") as f:\n",
    "    songs_id = client.upload(os.path.basename(songs_path),f)\n",
    "client.ingest_uploads(collection_id, [songs_id])\n",
    "\n",
    "with open(user_path, \"rb\") as f:\n",
    "    user_id = client.upload(os.path.basename(user_path),f)\n",
    "client.ingest_uploads(collection_id, [user_id])\n",
    "\n",
    "with open(history_path, \"rb\") as f:\n",
    "    history_id = client.upload(os.path.basename(history_path),f)\n",
    "client.ingest_uploads(collection_id, [history_id])"
   ]
  },
  {
   "cell_type": "code",
   "execution_count": 23,
   "metadata": {},
   "outputs": [
    {
     "name": "stdout",
     "output_type": "stream",
     "text": [
      "Based on the information provided, the top ID in users is \"1\" with 4 rock genre listens, and the top ID in songs is \"2aoo2jlRnM3A0NyLQqMN2f\" with 4 rock genre listens.\n"
     ]
    }
   ],
   "source": [
    "chat_session_id = client.create_chat_session(collection_id)\n",
    "with client.connect(chat_session_id) as session:\n",
    "    # Simple Question for Document Collection\n",
    "        answer = session.query(\n",
    "        message=\"what is the top id in users and top id in songs\",\n",
    "        rag_config={\n",
    "            \"rag_type\": \"rag\",\n",
    "        },\n",
    "        ).content\n",
    "        print(answer)\n"
   ]
  },
  {
   "cell_type": "markdown",
   "metadata": {},
   "source": [
    "Prompt designs"
   ]
  },
  {
   "cell_type": "code",
   "execution_count": null,
   "metadata": {},
   "outputs": [],
   "source": [
    "Prompt_template = \"\"\"\n",
    "Answer the questions based on only the following context:\n",
    "\n",
    "{context}\n",
    "\n",
    "---\n",
    "\n",
    "Answer the questions based on the above context: {query}\n",
    "\"\"\"\n"
   ]
  }
 ],
 "metadata": {
  "kernelspec": {
   "display_name": "Python 3",
   "language": "python",
   "name": "python3"
  },
  "language_info": {
   "codemirror_mode": {
    "name": "ipython",
    "version": 3
   },
   "file_extension": ".py",
   "mimetype": "text/x-python",
   "name": "python",
   "nbconvert_exporter": "python",
   "pygments_lexer": "ipython3",
   "version": "3.11.4"
  }
 },
 "nbformat": 4,
 "nbformat_minor": 2
}
