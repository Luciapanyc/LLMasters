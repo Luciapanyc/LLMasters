{
 "cells": [
  {
   "cell_type": "code",
   "execution_count": 1,
   "metadata": {},
   "outputs": [],
   "source": [
    "import numpy as np\n",
    "import pandas as pd\n",
    "import os"
   ]
  },
  {
   "cell_type": "code",
   "execution_count": 14,
   "metadata": {},
   "outputs": [],
   "source": [
    "songs = pd.read_excel('../data/songs_short.xlsx')\n",
    "user = pd.read_excel('../data/user.xlsx')\n",
    "history = pd.read_excel('../data/listening history.xlsx')\n"
   ]
  },
  {
   "cell_type": "code",
   "execution_count": 16,
   "metadata": {},
   "outputs": [
    {
     "name": "stdout",
     "output_type": "stream",
     "text": [
      "Songs head:\n",
      "               spotify_id                          Song         Artist  Rank  \\\n",
      "0  4H2TRR9FjnnIwxGnIt9stO                  Killin' Time    Clint Black     1   \n",
      "1  6iy4PoAuZBMvtrlDX4VxC7               Check Yes Or No  George Strait     2   \n",
      "2  3oW6SWwGqiZSPTiAp7ZQoH  It's A Great Day To Be Alive   Travis Tritt     3   \n",
      "3  7lUE02KHkZM44BZgjCaWRO            Meet in the Middle    Diamond Rio     4   \n",
      "4  1ecIqo8pOc8S6y3l80iGxd                         Fancy  Reba McEntire     5   \n",
      "\n",
      "     Genre  \n",
      "0  country  \n",
      "1  country  \n",
      "2  country  \n",
      "3  country  \n",
      "4  country  \n",
      "User head:\n",
      "   ID  Password                 Name Genre 1  Genre 2  Genre 3\n",
      "0   1         1           Sibyl Bode    rock      r&b      pop\n",
      "1   2         2    Eleazar Hettinger     rap     soul  hip hop\n",
      "2   3         3        Geovanny Lang     rap  country     soul\n",
      "3   4         4    Micah Satterfield    jazz      r&b     soul\n",
      "4   5         5  Courtney Schowalter    soul     folk    metal\n"
     ]
    }
   ],
   "source": [
    "print(\"Songs head:\")\n",
    "print(songs.head())\n",
    "\n",
    "print(\"User head:\")\n",
    "print(user.head())\n",
    "\n",
    "print(\"History head:\")\n",
    "print(history.head())"
   ]
  },
  {
   "cell_type": "code",
   "execution_count": 17,
   "metadata": {},
   "outputs": [],
   "source": [
    "from h2ogpte import H2OGPTE"
   ]
  },
  {
   "cell_type": "code",
   "execution_count": 11,
   "metadata": {},
   "outputs": [
    {
     "data": {
      "text/plain": [
       "Job(id='a4acb695-132b-46ea-bbdf-1bb013d5b433', name='Adding documents', passed=1.0, failed=0.0, progress=1.0, completed=True, canceled=False, date=datetime.datetime(2024, 3, 28, 3, 10, 49, tzinfo=TzInfo(UTC)), kind=<JobKind.IngestUploadsJob: 'IngestUploadsJob'>, statuses=[JobStatus(id='f6f52470dca241bbb96b6ff5d2649e4a', status='Indexing done.'), JobStatus(id='36fea923bf79437c86bd632a60267d92', status='Collecting done.')], errors=[], last_update_date=datetime.datetime(2024, 3, 28, 3, 10, 53, tzinfo=TzInfo(UTC)), duration='4s', duration_seconds=4.0)"
      ]
     },
     "execution_count": 11,
     "metadata": {},
     "output_type": "execute_result"
    }
   ],
   "source": [
    "client = H2OGPTE(\n",
    "    address='https://h2ogpte.genai.h2o.ai',\n",
    "    api_key='sk-ms7SU43E34tS9UJks5RD2KM3m1JumOR2pM73Dk95VzKjM6TZ',\n",
    ")\n",
    "\n",
    "# Create Collection\n",
    "collection_id = client.create_collection(\n",
    "    name=\"Musicrecco\",\n",
    "    description=\"Music Reccomendation Chatbot\",\n",
    ")\n",
    "\n",
    "# Upload Files\n",
    "songs_path = '../data/songs_short.xlsx'\n",
    "user_path = '../data/user.xlsx'\n",
    "history_path = '../data/listening history.xlsx'\n",
    "\n",
    "\n",
    "with open(songs_path, \"rb\") as f:\n",
    "    songs_id = client.upload(os.path.basename(songs_path),f)\n",
    "client.ingest_uploads(collection_id, [songs_id])\n",
    "\n",
    "with open(user_path, \"rb\") as f:\n",
    "    user_id = client.upload(os.path.basename(user_path),f)\n",
    "client.ingest_uploads(collection_id, [user_id])\n",
    "\n",
    "with open(history_path, \"rb\") as f:\n",
    "    history_id = client.upload(os.path.basename(history_path),f)\n",
    "client.ingest_uploads(collection_id, [history_id])"
   ]
  },
  {
   "cell_type": "code",
   "execution_count": 12,
   "metadata": {},
   "outputs": [
    {
     "name": "stdout",
     "output_type": "stream",
     "text": [
      "Based on the information provided, the top ID in users is 1 (Sibyl Bode) and the top ID in songs is not explicitly stated in the given text. However, the song with the earliest position in the list is \"Killin' Time\" by George Jones, which has a position of 1.\n"
     ]
    }
   ],
   "source": [
    "chat_session_id = client.create_chat_session(collection_id)\n",
    "with client.connect(chat_session_id) as session:\n",
    "    # Simple Question for Document Collection\n",
    "        answer = session.query(\n",
    "        message=\"what is the top id in users and top id in songs\",\n",
    "        rag_config={\n",
    "            \"rag_type\": \"rag\",\n",
    "        },\n",
    "        ).content\n",
    "        print(answer)\n"
   ]
  },
  {
   "cell_type": "markdown",
   "metadata": {},
   "source": [
    "Prompt designs"
   ]
  },
  {
   "cell_type": "code",
   "execution_count": null,
   "metadata": {},
   "outputs": [],
   "source": [
    "Prompt_template = \"\"\"\n",
    "Answer the questions based on only the following context:\n",
    "\n",
    "{context}\n",
    "\n",
    "---\n",
    "\n",
    "Answer the questions based on the above context: {query}\n",
    "\"\"\"\n"
   ]
  }
 ],
 "metadata": {
  "kernelspec": {
   "display_name": "Python 3",
   "language": "python",
   "name": "python3"
  },
  "language_info": {
   "codemirror_mode": {
    "name": "ipython",
    "version": 3
   },
   "file_extension": ".py",
   "mimetype": "text/x-python",
   "name": "python",
   "nbconvert_exporter": "python",
   "pygments_lexer": "ipython3",
   "version": "3.11.4"
  }
 },
 "nbformat": 4,
 "nbformat_minor": 2
}
