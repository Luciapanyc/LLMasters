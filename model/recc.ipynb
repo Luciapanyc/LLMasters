{
 "cells": [
  {
   "cell_type": "code",
   "execution_count": 3,
   "metadata": {},
   "outputs": [],
   "source": [
    "import numpy as np\n",
    "import pandas as pd"
   ]
  },
  {
   "cell_type": "code",
   "execution_count": 5,
   "metadata": {},
   "outputs": [],
   "source": [
    "songs = pd.read_csv('data/songs.csv')\n",
    "user = pd.read_csv('data/user.csv')"
   ]
  },
  {
   "cell_type": "code",
   "execution_count": 6,
   "metadata": {},
   "outputs": [
    {
     "name": "stdout",
     "output_type": "stream",
     "text": [
      "               spotify_id                                               Song  \\\n",
      "0  7n92QzQomRCLlciO14X0kd  Nocturne en mi bÃ©mol majeur opus 9 nÂ°2: Ball...   \n",
      "1  6GzMz3s0K1YKwRVI36CgRx                                       Liebestraume   \n",
      "2  0P3TUNfXfhdJ4rgdZAUL6i   Ma vlast (My Fatherland): No. 2. Vltava (Moldau)   \n",
      "3  3DNRdudZ2SstnDCVKFdXxG        Sonata No. 14 \"Moonlight\" in C-Sharp Minor\"   \n",
      "4  4jW2s3Spp80QQwHxdefx88  Concerto No. 1 in G Minor for Violin and Orche...   \n",
      "\n",
      "              Artist  Rank      Genre  \n",
      "0  FrÃ©dÃ©ric Chopin     1  classical  \n",
      "1                NaN     2  classical  \n",
      "2   BedÅ™ich Smetana     3  classical  \n",
      "3                NaN     4  classical  \n",
      "4                NaN     5  classical  \n",
      "   ID                 Name    Genre 1    Genre 2    Genre 3  \\\n",
      "0   1           Sibyl Bode       rock        r&b        pop   \n",
      "1   2    Eleazar Hettinger        rap  classical    hip hop   \n",
      "2   3        Geovanny Lang        rap    country       soul   \n",
      "3   4    Micah Satterfield       jazz        r&b  classical   \n",
      "4   5  Courtney Schowalter  classical       folk      metal   \n",
      "\n",
      "               Artist 1     Artist 2           Artist 3  \n",
      "0               Dae Dae     Ro James            Deicide  \n",
      "1        Eliza Gilkyson  Trick Daddy  Bruce Springsteen  \n",
      "2               K.A.R.D          SF9     Fischerspooner  \n",
      "3  Fun Lovin' Criminals        Q-Tip        Soul Asylum  \n",
      "4         Lorrie Morgan          Tcm          Wintersun  \n"
     ]
    }
   ],
   "source": [
    "print(songs.head())\n",
    "print(user.head())"
   ]
  },
  {
   "cell_type": "code",
   "execution_count": null,
   "metadata": {},
   "outputs": [],
   "source": [
    "from h2ogpte import H2OGPTE"
   ]
  },
  {
   "cell_type": "code",
   "execution_count": 33,
   "metadata": {},
   "outputs": [
    {
     "data": {
      "text/plain": [
       "Job(id='60f9de80-9f58-4954-9e7c-584e1fda8669', name='Adding documents', passed=1.0, failed=0.0, progress=1.0, completed=True, canceled=False, date=datetime.datetime(2024, 3, 26, 15, 22, 41, tzinfo=TzInfo(UTC)), kind=<JobKind.IngestUploadsJob: 'IngestUploadsJob'>, statuses=[JobStatus(id='f6f52470dca241bbb96b6ff5d2649e4a', status='Indexing done.'), JobStatus(id='36fea923bf79437c86bd632a60267d92', status='Collecting done.')], errors=[], last_update_date=datetime.datetime(2024, 3, 26, 15, 22, 45, tzinfo=TzInfo(UTC)), duration='4s', duration_seconds=4.0)"
      ]
     },
     "execution_count": 33,
     "metadata": {},
     "output_type": "execute_result"
    }
   ],
   "source": [
    "client = H2OGPTE(\n",
    "    address='https://h2ogpte.genai.h2o.ai',\n",
    "    api_key='sk-ms7SU43E34tS9UJks5RD2KM3m1JumOR2pM73Dk95VzKjM6TZ',\n",
    ")\n",
    "\n",
    "# # Chat with LLM\n",
    "# chat_session_id = client.create_chat_session()\n",
    "# with client.connect(chat_session_id) as session:\n",
    "#     # Simple Question for Document Collection\n",
    "#     answer = session.query(\n",
    "#         \"Can you hallucinate?\",\n",
    "#     ).content\n",
    "#     print(answer)\n",
    "\n",
    "# Create Collection\n",
    "collection_id = client.create_collection(\n",
    "    name=\"My first h2oGPTe collection\",\n",
    "    description=\"PDF -> text -> summary\",\n",
    ")\n",
    "\n",
    "import os\n",
    "\n",
    "# Your existing code\n",
    "file_path = \"/Users/blabbyduck/Downloads/user.pdf\"\n",
    "with open(file_path, \"rb\") as f:\n",
    "    upload_id = client.upload(os.path.basename(file_path), f)\n",
    "\n",
    "# # Converting the input into chunked text and embeddings...\n",
    "client.ingest_uploads(collection_id, [upload_id])"
   ]
  },
  {
   "cell_type": "code",
   "execution_count": 49,
   "metadata": {},
   "outputs": [
    {
     "name": "stdout",
     "output_type": "stream",
     "text": [
      "The last ID genre in the document is for ID 50, Antonio Lebsack, and it is k-pop.\n"
     ]
    }
   ],
   "source": [
    "chat_session_id = client.create_chat_session(collection_id)\n",
    "with client.connect(chat_session_id) as session:\n",
    "    # Simple Question for Document Collection\n",
    "        answer = session.query(\n",
    "        message=\"what is the last ID genre\",\n",
    "        rag_config={\n",
    "            \"rag_type\": \"rag\",\n",
    "        },\n",
    "        ).content\n",
    "        print(answer)\n"
   ]
  },
  {
   "cell_type": "markdown",
   "metadata": {},
   "source": [
    "Prompt designs"
   ]
  },
  {
   "cell_type": "code",
   "execution_count": null,
   "metadata": {},
   "outputs": [],
   "source": [
    "Prompt_template = \"\"\"\n",
    "Answer the questions based on only the following context:\n",
    "\n",
    "{context}\n",
    "\n",
    "---\n",
    "\n",
    "Answer the questions based on the above context: {query}\n",
    "\"\"\"\n"
   ]
  }
 ],
 "metadata": {
  "kernelspec": {
   "display_name": "Python 3",
   "language": "python",
   "name": "python3"
  },
  "language_info": {
   "codemirror_mode": {
    "name": "ipython",
    "version": 3
   },
   "file_extension": ".py",
   "mimetype": "text/x-python",
   "name": "python",
   "nbconvert_exporter": "python",
   "pygments_lexer": "ipython3",
   "version": "3.12.0"
  }
 },
 "nbformat": 4,
 "nbformat_minor": 2
}
