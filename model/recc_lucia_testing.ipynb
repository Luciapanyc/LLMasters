{
 "cells": [
  {
   "cell_type": "code",
   "execution_count": 1,
   "metadata": {},
   "outputs": [],
   "source": [
    "import numpy as np\n",
    "import pandas as pd"
   ]
  },
  {
   "cell_type": "code",
   "execution_count": 13,
   "metadata": {},
   "outputs": [],
   "source": [
    "#songs = pd.read_csv('data/songs.csv')\n",
    "#user = pd.read_csv('data/user.csv')\n",
    "spot = pd.read_csv('/Users/blabbyduck/Desktop/Y3S2/DSA4213/LLMasters/data/music.csv')[['artists','album_name','song name', 'track_genre', 'danceability', 'energy', 'loudness', 'tempo', 'liveness', 'valence' ]]"
   ]
  },
  {
   "cell_type": "code",
   "execution_count": null,
   "metadata": {},
   "outputs": [
    {
     "name": "stdout",
     "output_type": "stream",
     "text": [
      "                  artists                                         album_name  \\\n",
      "0             Gen Hoshino                                             Comedy   \n",
      "1            Ben Woodward                                   Ghost (Acoustic)   \n",
      "2  Ingrid Michaelson;ZAYN                                     To Begin Again   \n",
      "3            Kina Grannis  Crazy Rich Asians (Original Motion Picture Sou...   \n",
      "4        Chord Overstreet                                            Hold On   \n",
      "\n",
      "                    song name track_genre  danceability  energy  loudness  \\\n",
      "0                      Comedy    acoustic         0.676  0.4610    -6.746   \n",
      "1            Ghost - Acoustic    acoustic         0.420  0.1660   -17.235   \n",
      "2              To Begin Again    acoustic         0.438  0.3590    -9.734   \n",
      "3  Can't Help Falling In Love    acoustic         0.266  0.0596   -18.515   \n",
      "4                     Hold On    acoustic         0.618  0.4430    -9.681   \n",
      "\n",
      "     tempo  liveness  valence  \n",
      "0   87.917    0.3580    0.715  \n",
      "1   77.489    0.1010    0.267  \n",
      "2   76.332    0.1170    0.120  \n",
      "3  181.740    0.1320    0.143  \n",
      "4  119.949    0.0829    0.167  \n"
     ]
    }
   ],
   "source": [
    "print(spot.head())\n"
   ]
  },
  {
   "cell_type": "code",
   "execution_count": 15,
   "metadata": {},
   "outputs": [],
   "source": [
    "from h2ogpte import H2OGPTE"
   ]
  },
  {
   "cell_type": "code",
   "execution_count": 19,
   "metadata": {},
   "outputs": [],
   "source": [
    "client = H2OGPTE(\n",
    "    address='https://h2ogpte.genai.h2o.ai',\n",
    "    api_key='sk-ms7SU43E34tS9UJks5RD2KM3m1JumOR2pM73Dk95VzKjM6TZ',\n",
    ")\n",
    "\n",
    "# # Chat with LLM\n",
    "# chat_session_id = client.create_chat_session()\n",
    "# with client.connect(chat_session_id) as session:\n",
    "#     # Simple Question for Document Collection\n",
    "#     answer = session.query(\n",
    "#         \"Can you hallucinate?\",\n",
    "#     ).content\n",
    "#     print(answer)\n",
    "\n",
    "# Create Collection\n",
    "collection_id = client.create_collection(\n",
    "    name=\"MusicRecco\",\n",
    "    description=\"PDF -> text -> summary\",\n",
    ")\n",
    "\n",
    "import os\n",
    "\n",
    "# Your existing code\n",
    "file_path = \"/Users/blabbyduck/Desktop/Y3S2/DSA4213/LLMasters/data/music.csv\"\n",
    "with open(file_path, \"rb\") as f:\n",
    "     songs = client.upload(os.path.basename(file_path), f)\n",
    "\n",
    "# with open('/Users/blabbyduck/Desktop/Y3S2/DSA4213/LLMasters/data/listening history.xlsx', 'rb') as f:\n",
    "#     hist = client.upload(os.path.basename('/Users/blabbyduck/Desktop/Y3S2/DSA4213/LLMasters/data/listening history.xlsx'), f)\n",
    "\n",
    "# with open('/Users/blabbyduck/Desktop/Y3S2/DSA4213/LLMasters/data/songs_short.xlsx', 'rb') as f:\n",
    "#     songs = client.upload(os.path.basename('/Users/blabbyduck/Desktop/Y3S2/DSA4213/LLMasters/data/songs_short.xlsx'), f)\n",
    "\n",
    "#with open('/Users/blabbyduck/Desktop/Y3S2/DSA4213/LLMasters/data/music.csv', 'rb') as f:\n",
    "#    spot = client.upload(os.path.basename('/Users/blabbyduck/Desktop/Y3S2/DSA4213/LLMasters/data/music.csv'), f)\n",
    "\n",
    "# # Converting the input into chunked text and embeddings...\n",
    "client.ingest_uploads(collection_id, [songs])"
   ]
  },
  {
   "cell_type": "code",
   "execution_count": null,
   "metadata": {},
   "outputs": [
    {
     "ename": "SessionError",
     "evalue": "Remote error: No document chunks found. Please ingest documents or disable RAG.",
     "output_type": "error",
     "traceback": [
      "\u001b[0;31m---------------------------------------------------------------------------\u001b[0m",
      "\u001b[0;31mSessionError\u001b[0m                              Traceback (most recent call last)",
      "Cell \u001b[0;32mIn[8], line 4\u001b[0m\n\u001b[1;32m      1\u001b[0m chat_session_id \u001b[38;5;241m=\u001b[39m client\u001b[38;5;241m.\u001b[39mcreate_chat_session(collection_id)\n\u001b[1;32m      2\u001b[0m \u001b[38;5;28;01mwith\u001b[39;00m client\u001b[38;5;241m.\u001b[39mconnect(chat_session_id) \u001b[38;5;28;01mas\u001b[39;00m session:\n\u001b[1;32m      3\u001b[0m     \u001b[38;5;66;03m# Simple Question for Document Collection\u001b[39;00m\n\u001b[0;32m----> 4\u001b[0m         answer \u001b[38;5;241m=\u001b[39m \u001b[43msession\u001b[49m\u001b[38;5;241;43m.\u001b[39;49m\u001b[43mquery\u001b[49m\u001b[43m(\u001b[49m\n\u001b[1;32m      5\u001b[0m \u001b[43m        \u001b[49m\u001b[43mmessage\u001b[49m\u001b[38;5;241;43m=\u001b[39;49m\u001b[38;5;124;43m\"\u001b[39;49m\u001b[38;5;124;43mwhat is the tempo of Comedy by Gen Hoshino\u001b[39;49m\u001b[38;5;124;43m\"\u001b[39;49m\u001b[43m,\u001b[49m\n\u001b[1;32m      6\u001b[0m \u001b[43m        \u001b[49m\u001b[43msystem_prompt\u001b[49m\u001b[43m \u001b[49m\u001b[38;5;241;43m=\u001b[39;49m\u001b[43m \u001b[49m\u001b[38;5;124;43m'\u001b[39;49m\u001b[38;5;124;43mAssume music and song to be the same word. When a question as for a similar music, recommend less than 5 music unless told otherwise. Find similar music based on genre and other factors such as danceability, loudness, speechiness and more\u001b[39;49m\u001b[38;5;124;43m'\u001b[39;49m\u001b[43m \u001b[49m\u001b[43m,\u001b[49m\n\u001b[1;32m      7\u001b[0m \u001b[43m        \u001b[49m\u001b[43mrag_config\u001b[49m\u001b[38;5;241;43m=\u001b[39;49m\u001b[43m{\u001b[49m\n\u001b[1;32m      8\u001b[0m \u001b[43m            \u001b[49m\u001b[38;5;124;43m\"\u001b[39;49m\u001b[38;5;124;43mrag_type\u001b[39;49m\u001b[38;5;124;43m\"\u001b[39;49m\u001b[43m:\u001b[49m\u001b[43m \u001b[49m\u001b[38;5;124;43m\"\u001b[39;49m\u001b[38;5;124;43mrag\u001b[39;49m\u001b[38;5;124;43m\"\u001b[39;49m\u001b[43m,\u001b[49m\n\u001b[1;32m      9\u001b[0m \u001b[43m        \u001b[49m\u001b[43m}\u001b[49m\u001b[43m,\u001b[49m\n\u001b[1;32m     10\u001b[0m \u001b[43m        \u001b[49m\u001b[43m)\u001b[49m\u001b[38;5;241m.\u001b[39mcontent\n\u001b[1;32m     11\u001b[0m         \u001b[38;5;28mprint\u001b[39m(answer)\n",
      "File \u001b[0;32m/Library/Frameworks/Python.framework/Versions/3.12/lib/python3.12/site-packages/h2ogpte/session.py:317\u001b[0m, in \u001b[0;36mSession.query\u001b[0;34m(self, message, system_prompt, pre_prompt_query, prompt_query, pre_prompt_summary, prompt_summary, llm, llm_args, self_reflection_config, rag_config, timeout, callback)\u001b[0m\n\u001b[1;32m    312\u001b[0m             \u001b[38;5;28;01mif\u001b[39;00m (\n\u001b[1;32m    313\u001b[0m                 res\u001b[38;5;241m.\u001b[39msession_id \u001b[38;5;241m!=\u001b[39m \u001b[38;5;28mself\u001b[39m\u001b[38;5;241m.\u001b[39m_chat_session_id\n\u001b[1;32m    314\u001b[0m                 \u001b[38;5;129;01mor\u001b[39;00m res\u001b[38;5;241m.\u001b[39mreply_to_id \u001b[38;5;241m!=\u001b[39m request_id\n\u001b[1;32m    315\u001b[0m             ):\n\u001b[1;32m    316\u001b[0m                 \u001b[38;5;28;01mcontinue\u001b[39;00m\n\u001b[0;32m--> 317\u001b[0m             \u001b[38;5;28;01mraise\u001b[39;00m SessionError(\u001b[38;5;124mf\u001b[39m\u001b[38;5;124m\"\u001b[39m\u001b[38;5;124mRemote error: \u001b[39m\u001b[38;5;132;01m{\u001b[39;00mres\u001b[38;5;241m.\u001b[39merror\u001b[38;5;132;01m}\u001b[39;00m\u001b[38;5;124m\"\u001b[39m)\n\u001b[1;32m    318\u001b[0m \u001b[38;5;28;01mexcept\u001b[39;00m \u001b[38;5;167;01mTimeoutError\u001b[39;00m \u001b[38;5;28;01mas\u001b[39;00m e:\n\u001b[1;32m    319\u001b[0m     \u001b[38;5;28;01mraise\u001b[39;00m \u001b[38;5;167;01mTimeoutError\u001b[39;00m(\u001b[38;5;124mf\u001b[39m\u001b[38;5;124m\"\u001b[39m\u001b[38;5;124mRequest timed out:\u001b[39m\u001b[38;5;130;01m\\n\u001b[39;00m\u001b[38;5;132;01m{\u001b[39;00mserialize(request)\u001b[38;5;132;01m}\u001b[39;00m\u001b[38;5;124m\"\u001b[39m) \u001b[38;5;28;01mfrom\u001b[39;00m \u001b[38;5;21;01me\u001b[39;00m\n",
      "\u001b[0;31mSessionError\u001b[0m: Remote error: No document chunks found. Please ingest documents or disable RAG."
     ]
    }
   ],
   "source": [
    "chat_session_id = client.create_chat_session(collection_id)\n",
    "with client.connect(chat_session_id) as session:\n",
    "    # Simple Question for Document Collection\n",
    "        answer = session.query(\n",
    "        message=\"what is the tempo of Comedy by Gen Hoshino\",\n",
    "        system_prompt = 'Assume music and song to be the same word. When a question as for a similar music, recommend less than 5 music unless told otherwise. Find similar music based on genre and other factors such as danceability, loudness, speechiness and more' ,\n",
    "        rag_config={\n",
    "            \"rag_type\": \"rag\",\n",
    "        },\n",
    "        ).content\n",
    "        print(answer)\n"
   ]
  },
  {
   "cell_type": "markdown",
   "metadata": {},
   "source": [
    "Prompt designs"
   ]
  },
  {
   "cell_type": "code",
   "execution_count": null,
   "metadata": {},
   "outputs": [
    {
     "name": "stdout",
     "output_type": "stream",
     "text": [
      "['mistralai/Mixtral-8x7B-Instruct-v0.1', 'h2oai/h2ogpt-4096-llama2-70b-chat', 'h2oai/h2ogpt-4096-llama2-13b-chat', 'h2oai/h2ogpt-32k-codellama-34b-instruct', 'HuggingFaceH4/zephyr-7b-beta', 'NousResearch/Nous-Capybara-34B', 'claude-2.1', 'gpt-3.5-turbo-0613', 'gpt-3.5-turbo-16k-0613', 'gpt-35-turbo-1106', 'gpt-4-1106-preview', 'gemini-pro', 'mistral-small-latest', 'mistral-large-latest', 'mistral-medium']\n"
     ]
    }
   ],
   "source": [
    "print([x[\"base_model\"] for x in client.get_llms()])"
   ]
  },
  {
   "cell_type": "code",
   "execution_count": null,
   "metadata": {},
   "outputs": [
    {
     "name": "stdout",
     "output_type": "stream",
     "text": [
      "Number of chunks: 0\n"
     ]
    }
   ],
   "source": [
    "# Inspect and collect all text chunks\n",
    "chunks = []\n",
    "for chunk_id in range(1, 100):\n",
    "    try:\n",
    "        chunk = client.get_chunks(collection_id, [chunk_id])\n",
    "        print(chunk, flush=True)\n",
    "        chunks.append(chunk[0].text)\n",
    "    except:\n",
    "        break\n",
    "\n",
    "print(f\"Number of chunks: {len(chunks)}\", flush=True)"
   ]
  },
  {
   "cell_type": "code",
   "execution_count": null,
   "metadata": {},
   "outputs": [],
   "source": [
    "Prompt_template = \"\"\"\n",
    "Answer the questions based on only the following context:\n",
    "\n",
    "{context}\n",
    "\n",
    "---\n",
    "\n",
    "Answer the questions based on the above context: {query}\n",
    "\"\"\"\n"
   ]
  }
 ],
 "metadata": {
  "kernelspec": {
   "display_name": "Python 3",
   "language": "python",
   "name": "python3"
  },
  "language_info": {
   "codemirror_mode": {
    "name": "ipython",
    "version": 3
   },
   "file_extension": ".py",
   "mimetype": "text/x-python",
   "name": "python",
   "nbconvert_exporter": "python",
   "pygments_lexer": "ipython3",
   "version": "3.12.0"
  }
 },
 "nbformat": 4,
 "nbformat_minor": 2
}
