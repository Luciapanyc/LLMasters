{
 "cells": [
  {
   "cell_type": "markdown",
   "metadata": {},
   "source": [
    "# 0. Imports"
   ]
  },
  {
   "cell_type": "code",
   "execution_count": 1,
   "metadata": {},
   "outputs": [],
   "source": [
    "from h2ogpte import H2OGPTE\n",
    "import numpy as np\n",
    "import pandas as pd\n",
    "import os"
   ]
  },
  {
   "cell_type": "markdown",
   "metadata": {},
   "source": [
    "# 1. Data Sets"
   ]
  },
  {
   "cell_type": "code",
   "execution_count": 3,
   "metadata": {},
   "outputs": [],
   "source": [
    "songs = pd.read_csv('../../data/songs_short.csv')\n",
    "user = pd.read_csv('../../data/user.csv')\n",
    "history = pd.read_csv('../../data/listening_history.csv')"
   ]
  },
  {
   "cell_type": "code",
   "execution_count": null,
   "metadata": {},
   "outputs": [
    {
     "name": "stdout",
     "output_type": "stream",
     "text": [
      "Songs:\n",
      "               spotify_id                          Song         Artist  Rank  \\\n",
      "0  4H2TRR9FjnnIwxGnIt9stO                  Killin' Time    Clint Black     1   \n",
      "1  6iy4PoAuZBMvtrlDX4VxC7               Check Yes Or No  George Strait     2   \n",
      "2  3oW6SWwGqiZSPTiAp7ZQoH  It's A Great Day To Be Alive   Travis Tritt     3   \n",
      "3  7lUE02KHkZM44BZgjCaWRO            Meet in the Middle    Diamond Rio     4   \n",
      "4  1ecIqo8pOc8S6y3l80iGxd                         Fancy  Reba McEntire     5   \n",
      "\n",
      "     Genre  \n",
      "0  country  \n",
      "1  country  \n",
      "2  country  \n",
      "3  country  \n",
      "4  country  \n",
      "Users:\n",
      "     UserID  Password                 Name Genre_1  Genre_2  Genre_3\n",
      "0     sibyl  7S02NXS3           Sibyl Bode    rock      r&b      pop\n",
      "1   eleazar  7S02NXS4    Eleazar Hettinger     rap     soul  hip hop\n",
      "2  geovanny  7S02NXS5        Geovanny Lang     rap  country     soul\n",
      "3     micah  7S02NXS6    Micah Satterfield    jazz      r&b     soul\n",
      "4  courtney  7S02NXS7  Courtney Schowalter    soul     folk    metal\n",
      "User listening history:\n",
      "  UserID              spotify_id Genre\n",
      "0  sibyl  2aoo2jlRnM3A0NyLQqMN2f  rock\n",
      "1  sibyl  31t0ATifZW5CW3XP2QUsUW   pop\n",
      "2  sibyl  1hGy2eLcmC8eKx7qr1tOqx   pop\n",
      "3  sibyl  6TlRNJaezOdzdECnQeRuMM   r&b\n",
      "4  sibyl  5d4l67BejhQZ9uQtTCfYfL   r&b\n"
     ]
    }
   ],
   "source": [
    "print('Songs:')\n",
    "print(songs.head())\n",
    "\n",
    "print('Users:')\n",
    "print(user.head())\n",
    "\n",
    "print('User listening history:')\n",
    "print(history.head())"
   ]
  },
  {
   "cell_type": "markdown",
   "metadata": {},
   "source": [
    "# 2. h2o Model"
   ]
  },
  {
   "cell_type": "code",
   "execution_count": 21,
   "metadata": {},
   "outputs": [],
   "source": [
    "client = H2OGPTE(\n",
    "    address='https://h2ogpte.genai.h2o.ai',\n",
    "    api_key='sk-cfLVheKJ5GJMA7oEJoPKXPOul4aWtCk9fnMD0BiYBYjaH53J',\n",
    ")"
   ]
  },
  {
   "cell_type": "code",
   "execution_count": 22,
   "metadata": {},
   "outputs": [],
   "source": [
    "# Create Collection\n",
    "collection_id = client.create_collection(\n",
    "    name=\"MusicRecco\",\n",
    "    description=\"Music Reccommender\",\n",
    ")"
   ]
  },
  {
   "cell_type": "code",
   "execution_count": 23,
   "metadata": {},
   "outputs": [],
   "source": [
    "# Convert Data to Readable Format\n",
    "songs_txt = songs.to_csv(index=False)\n",
    "user_txt = user.to_csv(index=False)\n",
    "history_txt = history.to_csv(index=False)"
   ]
  },
  {
   "cell_type": "code",
   "execution_count": 24,
   "metadata": {},
   "outputs": [
    {
     "data": {
      "text/plain": [
       "Job(id='782b4a5a-0694-4230-92f6-85033c866317', name='Adding documents', passed=1.0, failed=0.0, progress=1.0, completed=True, canceled=False, date=datetime.datetime(2024, 4, 7, 4, 18, 10, tzinfo=TzInfo(UTC)), kind=<JobKind.IngestUploadsJob: 'IngestUploadsJob'>, statuses=[JobStatus(id='a3624524b3444461893c715976f10ce6', status='Indexing done.'), JobStatus(id='eb7cc35f5c284ae38b2df4a30a90d0ae', status='Collecting done.')], errors=[], last_update_date=datetime.datetime(2024, 4, 7, 4, 18, 32, tzinfo=TzInfo(UTC)), duration='22s', duration_seconds=22.0)"
      ]
     },
     "execution_count": 24,
     "metadata": {},
     "output_type": "execute_result"
    }
   ],
   "source": [
    "# Upload\n",
    "songs_data = client.upload('songs_short.txt', songs_txt.encode())\n",
    "user_data = client.upload('user.txt', user_txt.encode())\n",
    "history_data = client.upload('listening_history.txt', history_txt.encode())\n",
    "\n",
    "# Ingest the uploaded data\n",
    "client.ingest_uploads(collection_id, [songs_data, user_data, history_data])"
   ]
  },
  {
   "cell_type": "markdown",
   "metadata": {},
   "source": [
    "# 3. ChatBot Page"
   ]
  },
  {
   "cell_type": "code",
   "execution_count": 56,
   "metadata": {},
   "outputs": [],
   "source": [
    "import re"
   ]
  },
  {
   "cell_type": "code",
   "execution_count": 25,
   "metadata": {},
   "outputs": [],
   "source": [
    "#Initiate Chat\n",
    "chat_session_id = client.create_chat_session(collection_id)"
   ]
  },
  {
   "cell_type": "code",
   "execution_count": null,
   "metadata": {},
   "outputs": [],
   "source": [
    "'Recommend less than 5 music unless told otherwise. Return only the song name, unless stated otherwise. Return spotify_id of each recommended music at the end of each recomendation'"
   ]
  },
  {
   "cell_type": "code",
   "execution_count": 47,
   "metadata": {},
   "outputs": [],
   "source": [
    "def spot_extraction(msg):\n",
    "    with client.connect(chat_session_id) as session:\n",
    "        # Simple Question for Document Collection\n",
    "            answer = session.query(\n",
    "            message= msg,\n",
    "            system_prompt ='Recommend not more than 5 music. Return spotify_id at the end of each song.',\n",
    "            rag_config={\n",
    "                \"rag_type\": \"rag\",\n",
    "            },\n",
    "            ).content\n",
    "    return answer"
   ]
  },
  {
   "cell_type": "code",
   "execution_count": 48,
   "metadata": {},
   "outputs": [
    {
     "name": "stdout",
     "output_type": "stream",
     "text": [
      "Here are five songs that you might find comforting when you're feeling down, based on the information provided in the document:\n",
      "\n",
      "1. \"Yesterday\" by The Beatles (page 17, row 1) - Spotify ID: 6FRwDxXsvSasw0y2eDArsz\n",
      "2. \"The Sound of Silence\" by Simon & Garfunkel (page 18, row 2) - Spotify ID: 5uvosCdMlFdTXhoazkTI5R\n",
      "3. \"Imagine\" by John Lennon (page 19, row 1) - Spotify ID: 6mHOcVtsHLMuesJkswc0GZ\n",
      "4. \"Hallelujah\" by Leonard Cohen (page 20, row 2) - Spotify ID: 0sgDEFq9oeC8ueOK0mR5IA\n",
      "5. \"Someone Like You\" by Adele (page 20, row 3) - Spotify ID: 4KfSdst7rW39C0sfhArdrz\n",
      "\n",
      "Please note that these songs were chosen based on their genre (rock and soul) and the fact that they have been recognized as emotionally evocative by some listeners. However, everyone's musical tastes and emotional responses are different, so these songs may not have the same effect on you as they have on others.\n"
     ]
    }
   ],
   "source": [
    "ans = spot_extraction(\"What are some music that i can listen to when im sad\")\n",
    "print(ans)"
   ]
  },
  {
   "cell_type": "code",
   "execution_count": 49,
   "metadata": {},
   "outputs": [
    {
     "name": "stdout",
     "output_type": "stream",
     "text": [
      "Based on the data provided, here are five songs from different artists that I recommend:\n",
      "\n",
      "1. \"Light My Fire\" by The Doors (spotify\\_id: 5uvosCdMlFdTXhoazkTI5R)\n",
      "2. \"The Logical Song - 2010 Remastered\" by Supertramp (spotify\\_id: 6mHOcVtsHLMuesJkswc0GZ)\n",
      "3. \"Barracuda\" by Heart (spotify\\_id: 4KfSdst7rW39C0sfhArdrz)\n",
      "4. \"Like a Stone\" by Audioslave (spotify\\_id: 3YuaBvuZqcwN3CEAyyoaei)\n",
      "5. \"Back In Black\" by AC/DC (spotify\\_id: 08mG3Y1vljYA6bvDt4Wqkj)\n",
      "\n",
      "These songs are from well-known rock bands and have high popularity scores according to the data.\n"
     ]
    }
   ],
   "source": [
    "ans1 = spot_extraction(\"What are some music that you recommend me\")\n",
    "print(ans1)"
   ]
  },
  {
   "cell_type": "code",
   "execution_count": 80,
   "metadata": {},
   "outputs": [],
   "source": [
    "def make_link(text):\n",
    "    lines = text.split('\\n')\n",
    "    lines = [line.strip() for line in lines if line.strip()]\n",
    "    spotify_id_pattern = r'spotify\\\\_id: ([a-zA-Z0-9]+)'\n",
    "    # Extracting Spotify IDs\n",
    "    spotify_ids = []\n",
    "    for line in lines:\n",
    "        match = re.search(spotify_id_pattern, line)\n",
    "        if match:\n",
    "            spotify_ids.append(match.group(1))\n",
    "\n",
    "    #output clickable links\n",
    "    for idx, spotify_id in enumerate(spotify_ids, start=1):\n",
    "        link = f\"https://open.spotify.com/track/{spotify_id}\"\n",
    "        print(f\"{link}\")\n"
   ]
  },
  {
   "cell_type": "code",
   "execution_count": 79,
   "metadata": {},
   "outputs": [
    {
     "name": "stdout",
     "output_type": "stream",
     "text": [
      "https://open.spotify.com/track/5uvosCdMlFdTXhoazkTI5R\n",
      "https://open.spotify.com/track/6mHOcVtsHLMuesJkswc0GZ\n",
      "https://open.spotify.com/track/4KfSdst7rW39C0sfhArdrz\n",
      "https://open.spotify.com/track/3YuaBvuZqcwN3CEAyyoaei\n",
      "https://open.spotify.com/track/08mG3Y1vljYA6bvDt4Wqkj\n"
     ]
    }
   ],
   "source": [
    "make_link(ans1)"
   ]
  },
  {
   "cell_type": "code",
   "execution_count": 63,
   "metadata": {},
   "outputs": [
    {
     "name": "stdout",
     "output_type": "stream",
     "text": [
      "\n",
      "1. 5uvosCdMlFdTXhoazkTI5R\n",
      "2. 6mHOcVtsHLMuesJkswc0GZ\n",
      "3. 4KfSdst7rW39C0sfhArdrz\n",
      "4. 3YuaBvuZqcwN3CEAyyoaei\n",
      "5. 08mG3Y1vljYA6bvDt4Wqkj\n",
      "\n"
     ]
    }
   ],
   "source": [
    "# Function to convert Spotify IDs to clickable links\n",
    "def spotify_id_to_link(spotify_id):\n",
    "    return f\"https://open.spotify.com/track/{spotify_id}\"\n",
    "\n",
    "# Output the clickable links\n",
    "for idx, spotify_id in enumerate(\"spotify_ids\", start=1):\n",
    "    link = spotify_id_to_link(spotify_id)\n",
    "    print(f\"{idx}. {link}\")\n"
   ]
  }
 ],
 "metadata": {
  "kernelspec": {
   "display_name": "Python 3",
   "language": "python",
   "name": "python3"
  },
  "language_info": {
   "codemirror_mode": {
    "name": "ipython",
    "version": 3
   },
   "file_extension": ".py",
   "mimetype": "text/x-python",
   "name": "python",
   "nbconvert_exporter": "python",
   "pygments_lexer": "ipython3",
   "version": "3.12.0"
  }
 },
 "nbformat": 4,
 "nbformat_minor": 2
}
