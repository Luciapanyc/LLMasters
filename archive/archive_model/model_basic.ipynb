{
 "cells": [
  {
   "cell_type": "code",
   "execution_count": 9,
   "metadata": {},
   "outputs": [],
   "source": [
    "from h2ogpte import H2OGPTE\n",
    "import numpy as np\n",
    "import pandas as pd\n",
    "import os\n",
    "from datetime import datetime\n",
    "import re\n",
    "import pathlib\n",
    "import spotipy  \n",
    "import requests"
   ]
  },
  {
   "cell_type": "markdown",
   "metadata": {},
   "source": [
    "# Without Query "
   ]
  },
  {
   "cell_type": "code",
   "execution_count": 10,
   "metadata": {},
   "outputs": [
    {
     "name": "stdout",
     "output_type": "stream",
     "text": [
      "rock,r&b,pop\n"
     ]
    }
   ],
   "source": [
    "# Read to get User's favourite genre\n",
    "user = pd.read_csv('../../data/user.csv')\n",
    "genre = user[user['UserID'] == 'sibyl'].iloc[:, -3:].to_csv(index=False, header=False).strip()\n",
    "print(genre)\n"
   ]
  },
  {
   "cell_type": "code",
   "execution_count": 11,
   "metadata": {},
   "outputs": [
    {
     "name": "stdout",
     "output_type": "stream",
     "text": [
      "['5QTxFnGygVM4jFQiBovmRo', '6mz1fBdKATx6qP4oP1I65G', '3TGRqZ0a2l1LRblBkJoaDx']\n"
     ]
    }
   ],
   "source": [
    "# In case, id fails, use backup of top ranked song \n",
    "music_genres = {\n",
    "    \"country\": \"4H2TRR9FjnnIwxGnIt9stO\",\n",
    "    \"electronic\": \"6s0yNmp4Hd32wGx40T6uL8\",\n",
    "    \"folk\": \"0fjYN9BylnRXMA3or3QSld\",\n",
    "    \"hip hop\": \"5ByAIlEEnxYdvpnezg7HTX\",\n",
    "    \"jazz\": \"7pKWTcPfT9mg2iAhobFHpS\",\n",
    "    \"k-pop\": \"5FLuHcyUiAlq2wCoqVuqUa\",\n",
    "    \"metal\": \"55tGzbf7CA1fnnlTy8HgDX\",\n",
    "    \"pop\": \"3TGRqZ0a2l1LRblBkJoaDx\",\n",
    "    \"r&b\": \"6mz1fBdKATx6qP4oP1I65G\",\n",
    "    \"rap\": \"59e7E2LMPZ2bhW5G6aCwX8\",\n",
    "    \"rock\": \"5QTxFnGygVM4jFQiBovmRo\",\n",
    "    \"soul\": \"2sCf9tz6LHByczuVT7rqIx\"\n",
    "}\n",
    "\n",
    "backup = genre.split(',')\n",
    "backup = [music_genres[genre] for genre in backup if genre in music_genres]\n",
    "print(backup)"
   ]
  },
  {
   "cell_type": "markdown",
   "metadata": {},
   "source": [
    "# With Query"
   ]
  },
  {
   "cell_type": "code",
   "execution_count": 12,
   "metadata": {},
   "outputs": [],
   "source": [
    "client = H2OGPTE(\n",
    "    address='https://h2ogpte.genai.h2o.ai',\n",
    "    api_key='sk-yG5q6JxtLgMS1Twv0mwZKbIVmJw5pNKGL6uU57p5IfYYJUq7',\n",
    ")"
   ]
  },
  {
   "cell_type": "code",
   "execution_count": 13,
   "metadata": {},
   "outputs": [],
   "source": [
    "# Create Collection\n",
    "collection_id = client.create_collection(\n",
    "    name=\"MusicRecco\",\n",
    "    description=\"Music Reccommender\",\n",
    ")"
   ]
  },
  {
   "cell_type": "code",
   "execution_count": 14,
   "metadata": {},
   "outputs": [],
   "source": [
    "# Read Data\n",
    "songs = pd.read_excel('/Users/blabbyduck/Desktop/LLMasters-1/data/song.xlsx')\n",
    "user = pd.read_csv('/Users/blabbyduck/Desktop/LLMasters-1/data/user.csv')\n",
    "history = pd.read_excel('/Users/blabbyduck/Desktop/LLMasters-1/data/listening_history.xlsx')"
   ]
  },
  {
   "cell_type": "code",
   "execution_count": 17,
   "metadata": {},
   "outputs": [],
   "source": [
    "\n",
    "songs = pd.read_excel('../../data/song.xlsx')\n",
    "user = pd.read_csv('../../data/user.csv')"
   ]
  },
  {
   "cell_type": "code",
   "execution_count": 21,
   "metadata": {},
   "outputs": [],
   "source": [
    "# Upload\n",
    "songs_data = client.upload('../../data/song.xlsx', open('../../data/song.xlsx', 'rb'))"
   ]
  },
  {
   "cell_type": "code",
   "execution_count": 22,
   "metadata": {},
   "outputs": [
    {
     "data": {
      "text/plain": [
       "Job(id='203bcc3f-edee-48e8-8f45-dd33765a44b7', name='Adding documents', passed=1.0, failed=0.0, progress=1.0, completed=True, canceled=False, date=datetime.datetime(2024, 4, 12, 6, 48, 34, tzinfo=TzInfo(UTC)), kind=<JobKind.IngestUploadsJob: 'IngestUploadsJob'>, statuses=[JobStatus(id='945eced79ecf4561bfd87a573f227b13', status='Indexing done.'), JobStatus(id='e3750a471c7d4132a3c85ed52fb8282a', status='Collecting done.')], errors=[], last_update_date=datetime.datetime(2024, 4, 12, 6, 48, 56, tzinfo=TzInfo(UTC)), duration='22s', duration_seconds=22.0)"
      ]
     },
     "execution_count": 22,
     "metadata": {},
     "output_type": "execute_result"
    }
   ],
   "source": [
    "# Ingest the uploaded data\n",
    "client.ingest_uploads(collection_id, [songs_data])"
   ]
  },
  {
   "cell_type": "code",
   "execution_count": 23,
   "metadata": {},
   "outputs": [],
   "source": [
    "#Initiate Chat\n",
    "chat_session_id = client.create_chat_session(collection_id)"
   ]
  },
  {
   "cell_type": "code",
   "execution_count": 50,
   "metadata": {},
   "outputs": [
    {
     "name": "stdout",
     "output_type": "stream",
     "text": [
      "Based on the information provided, here are 3 songs that you might like, one from each of the genres you mentioned (rock, r&b, and pop), along with their corresponding Spotify IDs:\n",
      "\n",
      "* Rock: \"Born to Be Wild\" by Steppenwolf (Spotify ID: 6QT53ohGZeLGoYktBPRePD)\n",
      "* R&B: \"I Want You\" by Marvin Gaye (Spotify ID: 15cGdiAHmezm0P04jVAjMo)\n",
      "* Pop: \"Call Me Maybe\" by Carly Rae Jepsen (Spotify ID: Carly Rae Jepsen)\n",
      "\n",
      "Note: I had to truncate the Spotify ID for the Carly Rae Jepsen song because it was too long to fit in this response. The full ID is \"4H2TRR9FjnnIwxGnIt9stO\".\n"
     ]
    }
   ],
   "source": [
    "# Query to get suggestion for genre\n",
    "recc_query = 'I like the genres ' + genre + ',recommend me 1 song from each of the genre I like with its Spotify ID. The Spotify ID should be a 22-character alphanumeric code.'\n",
    "with client.connect(chat_session_id) as session:\n",
    "    answer = session.query(\n",
    "        message=recc_query,\n",
    "        system_prompt='Reccommend a maximum of 5 songs. Return ONLY the music name in double quotation marks.',\n",
    "        rag_config={\"rag_type\": \"rag\"},\n",
    "    ).content\n",
    "\n",
    "    bot_response = answer\n",
    "    \n",
    "print(bot_response)"
   ]
  },
  {
   "cell_type": "code",
   "execution_count": 25,
   "metadata": {},
   "outputs": [
    {
     "name": "stdout",
     "output_type": "stream",
     "text": [
      "['3ODF56f90W3qxDqxHAUi3v', '0xZuxFQjLWZnRMOFlFDsF5']\n",
      "['3ODF56f90W3qxDqxHAUi3v', '0xZuxFQjLWZnRMOFlFDsF5', '5QTxFnGygVM4jFQiBovmRo', '6mz1fBdKATx6qP4oP1I65G', '3TGRqZ0a2l1LRblBkJoaDx']\n"
     ]
    }
   ],
   "source": [
    "# Convert query to spotify id to get name and album picture\n",
    "pattern = r'\\w{22}'\n",
    "\n",
    "spotify_ids = re.findall(pattern, bot_response)\n",
    "print(spotify_ids)\n",
    "\n",
    "# In case, id fails, use backup of top ranked song \n",
    "music_genres = {\n",
    "    \"country\": \"4H2TRR9FjnnIwxGnIt9stO\",\n",
    "    \"electronic\": \"6s0yNmp4Hd32wGx40T6uL8\",\n",
    "    \"folk\": \"0fjYN9BylnRXMA3or3QSld\",\n",
    "    \"hip hop\": \"5ByAIlEEnxYdvpnezg7HTX\",\n",
    "    \"jazz\": \"7pKWTcPfT9mg2iAhobFHpS\",\n",
    "    \"k-pop\": \"5FLuHcyUiAlq2wCoqVuqUa\",\n",
    "    \"metal\": \"55tGzbf7CA1fnnlTy8HgDX\",\n",
    "    \"pop\": \"3TGRqZ0a2l1LRblBkJoaDx\",\n",
    "    \"r&b\": \"6mz1fBdKATx6qP4oP1I65G\",\n",
    "    \"rap\": \"59e7E2LMPZ2bhW5G6aCwX8\",\n",
    "    \"rock\": \"5QTxFnGygVM4jFQiBovmRo\",\n",
    "    \"soul\": \"2sCf9tz6LHByczuVT7rqIx\"\n",
    "}\n",
    "\n",
    "backup = genre.split(',')\n",
    "backup = [music_genres[genre] for genre in backup if genre in music_genres]\n",
    "spotify_ids.extend(backup)\n",
    "print(spotify_ids)"
   ]
  },
  {
   "cell_type": "markdown",
   "metadata": {},
   "source": [
    "# Spotify API"
   ]
  },
  {
   "cell_type": "code",
   "execution_count": 26,
   "metadata": {},
   "outputs": [],
   "source": [
    "spotify_ids = ['3ODF56f90W3qxDqxHAUi3v', '0xZuxFQjLWZnRMOFlFDsF5', '5QTxFnGygVM4jFQiBovmRo', '6mz1fBdKATx6qP4oP1I65G', '3TGRqZ0a2l1LRblBkJoaDx']"
   ]
  },
  {
   "cell_type": "code",
   "execution_count": 27,
   "metadata": {},
   "outputs": [],
   "source": [
    "url = \"https://accounts.spotify.com/api/token\"\n",
    "payload = {\n",
    "    \"grant_type\": \"client_credentials\",\n",
    "    \"client_id\": \"31e6d0a4c512492685193069c8450433\",\n",
    "    \"client_secret\": \"054e3779e1974c038b277f4f2b5460ae\"\n",
    "}\n",
    "headers = {\n",
    "    \"Content-Type\": \"application/x-www-form-urlencoded\"\n",
    "}\n",
    "\n",
    "response = requests.post(url, data=payload, headers=headers)\n",
    "\n",
    "access_token = response.json()['access_token']\n"
   ]
  },
  {
   "cell_type": "code",
   "execution_count": 28,
   "metadata": {},
   "outputs": [],
   "source": [
    "def get_spotify_track_info(track_id, access_token):    \n",
    "    # Spotify API endpoint for retrieving track information\n",
    "    endpoint = f\"https://api.spotify.com/v1/tracks/{track_id}\"\n",
    "    \n",
    "    # Set up the request headers with the access token\n",
    "    headers = {\n",
    "        \"Authorization\": f\"Bearer {access_token}\"\n",
    "    }\n",
    "    \n",
    "    # Make the GET request to Spotify API\n",
    "    response = requests.get(endpoint, headers=headers)\n",
    "    \n",
    "    # Check if the request was successful\n",
    "    if response.status_code == 200:\n",
    "        # Parse the JSON response\n",
    "        track_info = response.json()\n",
    "        \n",
    "        # Extract the track name and image URL from the response\n",
    "        track_name = track_info['name']\n",
    "        image_url = track_info['album']['images'][0]['url']  # Get the first image (largest size)\n",
    "        \n",
    "        return track_name, image_url\n",
    "    else:\n",
    "        # If the request failed, print the error message\n",
    "        print(f\"Error: {response.status_code} - {response.text}\")\n",
    "        return None, None\n"
   ]
  },
  {
   "cell_type": "code",
   "execution_count": 29,
   "metadata": {},
   "outputs": [
    {
     "name": "stdout",
     "output_type": "stream",
     "text": [
      "[{'track_name': 'Strawberry Wine', 'image_url': 'https://i.scdn.co/image/ab67616d0000b273b2145bcb28fd6dbaa1e44a83'}, {'track_name': 'Step On', 'image_url': 'https://i.scdn.co/image/ab67616d0000b2732216645273a04d24d42505a0'}, {'track_name': \"(Don't Fear) The Reaper\", 'image_url': 'https://i.scdn.co/image/ab67616d0000b2733ac318439ae56ce048d7bf5d'}]\n",
      "Track Name: Strawberry Wine\n",
      "Image URL: https://i.scdn.co/image/ab67616d0000b273b2145bcb28fd6dbaa1e44a83\n",
      "\n",
      "Track Name: Step On\n",
      "Image URL: https://i.scdn.co/image/ab67616d0000b2732216645273a04d24d42505a0\n",
      "\n",
      "Track Name: (Don't Fear) The Reaper\n",
      "Image URL: https://i.scdn.co/image/ab67616d0000b2733ac318439ae56ce048d7bf5d\n",
      "\n"
     ]
    }
   ],
   "source": [
    "track_info_list = []\n",
    "\n",
    "for track_id in spotify_ids:\n",
    "    track_name, image_url = get_spotify_track_info(track_id, access_token)\n",
    "    if track_name and image_url:\n",
    "        track_info_list.append({\"track_name\": track_name, \"image_url\": image_url})\n",
    "        if len(track_info_list) >= 3:\n",
    "            break  # Stop adding more tracks once the list reaches a length of 3\n",
    "\n",
    "print(track_info_list)\n",
    "\n",
    "for track_info in track_info_list:\n",
    "    print(f\"Track Name: {track_info['track_name']}\")\n",
    "    print(f\"Image URL: {track_info['image_url']}\")\n",
    "    print()  # Add a newline for better readability between track information\n"
   ]
  },
  {
   "cell_type": "markdown",
   "metadata": {},
   "source": [
    "# Chatbot Page"
   ]
  },
  {
   "cell_type": "code",
   "execution_count": 30,
   "metadata": {},
   "outputs": [],
   "source": [
    "#Initiate Chat\n",
    "chat_session_id = client.create_chat_session(collection_id)"
   ]
  },
  {
   "cell_type": "code",
   "execution_count": 31,
   "metadata": {},
   "outputs": [],
   "source": [
    "with client.connect(chat_session_id) as session:\n",
    "    answer = session.query(\n",
    "        message= \"My favourite genre is Rap, Pop and KPop. Recommend me some songs.\",\n",
    "        system_prompt='Reccommend songs in the songs_short.xlsx document only, and provide spotify_id after each song',\n",
    "        rag_config={\"rag_type\": \"rag\"},\n",
    "    ).content\n",
    "    \n",
    "    reccommendations = answer"
   ]
  },
  {
   "cell_type": "markdown",
   "metadata": {},
   "source": [
    "# Convert to reccommend data save"
   ]
  },
  {
   "cell_type": "code",
   "execution_count": 32,
   "metadata": {},
   "outputs": [
    {
     "name": "stdout",
     "output_type": "stream",
     "text": [
      "['Yesterday', '6FRwDxXsvSasw0y2eDArsz', 'Imagine', '1bp2IO61zbQrbWNmKKxg3f', 'Hallelujah', '3qiyyUfYe7CRYLucrPmulD', 'Someone Like You', '5uvosCdMlFdTXhoazkTI5R', 'Fix You', '6mHOcVtsHLMuesJkswc0GZ']\n"
     ]
    }
   ],
   "source": [
    "import re\n",
    "\n",
    "# Provided text containing song titles\n",
    "text = \"\"\"\n",
    "Here are five songs that you might find comforting when you're feeling down, based on the information provided in the document:\n",
    "\n",
    "1. \"Yesterday\" by The Beatles (page 17, row 1, spotify_id: \"6FRwDxXsvSasw0y2eDArsz\")\n",
    "2. \"Imagine\" by John Lennon (page 17, row 2, spotify_id: \"1bp2IO61zbQrbWNmKKxg3f\")\n",
    "3. \"Hallelujah\" by Leonard Cohen (page 17, row 3, spotify_id: \"3qiyyUfYe7CRYLucrPmulD\")\n",
    "4. \"Someone Like You\" by Adele (page 18, row 1, spotify_id: \"5uvosCdMlFdTXhoazkTI5R\")\n",
    "5. \"Fix You\" by Coldplay (page 18, row 2, spotify_id: \"6mHOcVtsHLMuesJkswc0GZ\")\n",
    "\"\"\"\n",
    "\n",
    "# Regular expression pattern to extract song titles\n",
    "pattern = r'\"([^\"]+)\"'\n",
    "\n",
    "# Find all matches of the pattern in the text\n",
    "song_titles = re.findall(pattern, text)\n",
    "\n",
    "print(song_titles)\n"
   ]
  },
  {
   "cell_type": "markdown",
   "metadata": {},
   "source": [
    "# Link extraction testing"
   ]
  },
  {
   "cell_type": "code",
   "execution_count": 33,
   "metadata": {},
   "outputs": [],
   "source": [
    "# Youtube\n",
    "def convert_to_youtube_search_query(x):\n",
    "    input_string = re.sub(r'[^a-zA-Z0-9\\s]', '', x)\n",
    "    cleaned_string = ''.join(char for char in input_string if char.isalnum() or char.isspace())\n",
    "    query = '+'.join(cleaned_string.split())\n",
    "    youtube_search_query = f\"https://www.youtube.com/results?search_query={query}\"\n",
    "    return youtube_search_query"
   ]
  },
  {
   "cell_type": "code",
   "execution_count": 34,
   "metadata": {},
   "outputs": [
    {
     "name": "stdout",
     "output_type": "stream",
     "text": [
      "https://www.youtube.com/results?search_query=waifu+dance+love+you\n"
     ]
    }
   ],
   "source": [
    "print(convert_to_youtube_search_query('waifu dance !!!! love you'))"
   ]
  },
  {
   "cell_type": "code",
   "execution_count": 35,
   "metadata": {},
   "outputs": [],
   "source": [
    "def id_extract(text):\n",
    "    lines = text.split('\\n')\n",
    "    lines = [line.strip() for line in lines if line.strip()]\n",
    "    regex_pattern =  r'\\b[A-Za-z0-9]{22}\\b'\n",
    "\n",
    "    # Extracting Spotify IDs\n",
    "    spotify_ids = []\n",
    "    for string in lines:\n",
    "        match = re.findall(regex_pattern, string)\n",
    "        if match:\n",
    "            spotify_ids.append(match)\n",
    "    \n",
    "    #output clickable links\n",
    "    for idx, spotify_id in enumerate(spotify_ids, start=1):\n",
    "        link = f\"https://open.spotify.com/track/{spotify_id[0]}\"\n",
    "        print(f\"{link}\")"
   ]
  },
  {
   "cell_type": "code",
   "execution_count": 36,
   "metadata": {},
   "outputs": [],
   "source": [
    "def spot_extraction(msg):\n",
    "    with client.connect(chat_session_id) as session:\n",
    "        # Simple Question for Document Collection\n",
    "            answer = session.query(\n",
    "            message= msg,\n",
    "            system_prompt ='Recommend not more than 5 music. MUST return spotify_id at the end of each song.',\n",
    "            rag_config={\n",
    "                \"rag_type\": \"rag\",\n",
    "            },\n",
    "            ).content\n",
    "    return answer"
   ]
  },
  {
   "cell_type": "code",
   "execution_count": 37,
   "metadata": {},
   "outputs": [
    {
     "name": "stdout",
     "output_type": "stream",
     "text": [
      "Here are five songs that you might find comforting when you're feeling sad, based on the information provided in the document context:\n",
      "\n",
      "1. \"Let The Mystery Be\" by 10,000 Maniacs (Folk)\n",
      "   - danceability: 0.543\n",
      "   - energy: 0.572\n",
      "   - loudness: -13.124\n",
      "   - speechiness: 0.0317\n",
      "2. \"Blur\" by Blur (Electronic)\n",
      "   - danceability: 0.585\n",
      "   - energy: 0.924\n",
      "   - loudness: -4.782\n",
      "   - speechiness: 0.0336\n",
      "3. \"Moderat\" by Moderat (Electronic)\n",
      "   - danceability: 0.717\n",
      "   - energy: 0.46\n",
      "   - loudness: -11.326\n",
      "   - speechiness: 0.0372\n",
      "4. \"Fischerspooner\" by Fischerspooner (Electronic)\n",
      "   - danceability: 0.607\n",
      "   - energy: 0.734\n",
      "   - loudness: -7.622\n",
      "   - speechiness: 0.0445\n",
      "5. \"Hybrid\" by Hybrid (Electronic)\n",
      "   - danceability: 0.832\n",
      "   - energy: 0.536\n",
      "   - loudness: -6.736\n",
      "   - speechiness: 0.0557\n",
      "\n",
      "These songs have lower energy levels and higher danceability scores, which might help lift your mood. Additionally, they all have moderate loudness levels and low speechiness, which can create a calming atmosphere.\n"
     ]
    }
   ],
   "source": [
    "ans = spot_extraction(\"What are some music that i can listen to when im sad\")\n",
    "print(ans)"
   ]
  },
  {
   "cell_type": "code",
   "execution_count": 38,
   "metadata": {},
   "outputs": [
    {
     "name": "stdout",
     "output_type": "stream",
     "text": [
      "Based on the information provided, here are five songs I recommend:\n",
      "\n",
      "1. \"Killin' Time\" by Clint Black (country) - Spotify ID: 4H2TRR9FjnnIwxGnIt9stO\n",
      "2. \"Check Yes Or No\" by George Strait (country) - Spotify ID: 6iy4PoAuZBMvtrlDX4VxC7\n",
      "3. \"It's A Great Day To Be Alive\" by Travis Tritt (country) - Spotify ID: 3oW6SWwGqiZSPTiAp7ZQoH\n",
      "4. \"Delta Dawn\" by Tanya Tucker (country) - Spotify ID: 7lUE02KHkZM44BZgjCaWRO\n",
      "5. \"I Love A Rainy Night\" by Eddie Rabbitt (country) - Spotify ID: 5EA06TsQmqmQXZiEhr1AaM\n",
      "\n",
      "These recommendations are based on the genre and artist popularity in the given text.\n"
     ]
    }
   ],
   "source": [
    "ans1 = spot_extraction(\"What are some music that you recommend me\")\n",
    "print(ans1)"
   ]
  },
  {
   "cell_type": "code",
   "execution_count": 39,
   "metadata": {},
   "outputs": [],
   "source": [
    "ans2 = spot_extraction(\"music that i can dance to the most. Return the spotify id too\")"
   ]
  },
  {
   "cell_type": "code",
   "execution_count": 40,
   "metadata": {},
   "outputs": [
    {
     "name": "stdout",
     "output_type": "stream",
     "text": [
      "Based on the information provided, here are five songs that you might be able to dance to, along with their corresponding Spotify IDs:\n",
      "\n",
      "1. \"Galvanize\" by The Chemical Brothers - spotify:track:4UWDRNon2wbiqDsdkfUBGi\n",
      "2. \"Nobody Speak (feat. Run the Jewels)\" by DJ Shadow - spotify:track:4WxQGUmWBRNovxlF2g8Xdv\n",
      "3. \"Breathe\" by The Prodigy - spotify:track:6QT53ohGZeLGoYktBPRePD\n",
      "4. \"In Yer Face - Bicep Remix\" by Underworld - spotify:track:15cGdiAHmezm0P04jVAjMo\n",
      "5. \"Born Slippy (Nuxx)\" by Underworld - spotify:track:5Vx3e9PipiEceifVyBzCdj\n",
      "\n",
      "These songs are all associated with high energy and fast beats, which could make them suitable for dancing. However, personal preferences may vary, so it's always a good idea to listen to a song before deciding whether or not it's suitable for dancing.\n"
     ]
    }
   ],
   "source": [
    "print(ans2)"
   ]
  },
  {
   "cell_type": "code",
   "execution_count": 41,
   "metadata": {},
   "outputs": [],
   "source": [
    "def make_link(text):\n",
    "    lines = text.split('\\n')\n",
    "    lines = [line.strip() for line in lines if line.strip()]\n",
    "    regex_pattern =  r'\\b[A-Za-z0-9]{22}\\b'\n",
    "\n",
    "    # Extracting Spotify IDs\n",
    "    spotify_ids = []\n",
    "    for string in lines:\n",
    "        match = re.findall(regex_pattern, string)\n",
    "        if match:\n",
    "            spotify_ids.append(match)\n",
    "    \n",
    "    #output clickable links\n",
    "    for idx, spotify_id in enumerate(spotify_ids, start=1):\n",
    "        link = f\"https://open.spotify.com/track/{spotify_id[0]}\"\n",
    "        print(f\"{link}\")\n"
   ]
  },
  {
   "cell_type": "code",
   "execution_count": 42,
   "metadata": {},
   "outputs": [],
   "source": [
    "make_link(ans)"
   ]
  },
  {
   "cell_type": "code",
   "execution_count": 43,
   "metadata": {},
   "outputs": [
    {
     "name": "stdout",
     "output_type": "stream",
     "text": [
      "['6FRwDxXsvSasw0y2eDArsz', '5uvosCdMlFdTXhoazkTI5R', '6mHOcVtsHLMuesJkswc0GZ', '0sgDEFq9oeC8ueOK0mR5IA', '4KfSdst7rW39C0sfhArdrz', '5uvosCdMlFdTXhoazkTI5R', '4KfSdst7rW39C0sfhArdrz', '3YuaBvuZqcwN3CEAyyoaei', '08mG3Y1vljYA6bvDt4Wqkj']\n"
     ]
    }
   ],
   "source": [
    "import re\n",
    "\n",
    "def extract_spotify_ids(strings):\n",
    "    # Regular expression pattern to match Spotify IDs\n",
    "    pattern = r\"(?:Spotify ID|spotify_id)[:\\s]*\\\"?([a-zA-Z0-9_-]{22})\\\"?\"\n",
    "\n",
    "    # Extracting Spotify IDs\n",
    "    spotify_ids = []\n",
    "    for string in strings:\n",
    "        match = re.search(pattern, string)\n",
    "        if match:\n",
    "            spotify_ids.append(match.group(1))\n",
    "\n",
    "    return spotify_ids\n",
    "\n",
    "# Example usage:\n",
    "strings = [\n",
    "    \"1. \\\"Yesterday\\\" by The Beatles (page 17, row 1) - Spotify ID: 6FRwDxXsvSasw0y2eDArsz\",\n",
    "    \"2. \\\"The Sound of Silence\\\" by Simon & Garfunkel (page 18, row 2) - Spotify ID: 5uvosCdMlFdTXhoazkTI5R\",\n",
    "    \"3. \\\"Imagine\\\" by John Lennon (page 19, row 1) - Spotify ID: 6mHOcVtsHLMuesJkswc0GZ\",\n",
    "    \"4. \\\"Hallelujah\\\" by Leonard Cohen (page 20, row 2) - Spotify ID: 0sgDEFq9oeC8ueOK0mR5IA\",\n",
    "    \"5. \\\"Someone Like You\\\" by Adele (page 20, row 3) - Spotify ID: 4KfSdst7rW39C0sfhArdrz\",\n",
    "    \"6. \\\"Light My Fire\\\" by The Doors (spotify_id: 5uvosCdMlFdTXhoazkTI5R)\",\n",
    "    \"7. \\\"The Logical Song - 2010 Remastered\\\" by Supertramp (spotify_id: mHOcVtsHLMuesJkswc0GZ)\",\n",
    "    \"8. \\\"Barracuda\\\" by Heart (spotify_id: 4KfSdst7rW39C0sfhArdrz)\",\n",
    "    \"9. \\\"Like a Stone\\\" by Audioslave (spotify_id: 3YuaBvuZqcwN3CEAyyoaei)\",\n",
    "    \"10. \\\"Back In Black\\\" by AC/DC (spotify_id: 08mG3Y1vljYA6bvDt4Wqkj)\"\n",
    "]\n",
    "\n",
    "spotify_ids = extract_spotify_ids(strings)\n",
    "print(spotify_ids)\n"
   ]
  },
  {
   "cell_type": "code",
   "execution_count": 44,
   "metadata": {},
   "outputs": [
    {
     "name": "stdout",
     "output_type": "stream",
     "text": [
      "6FRwDxXsvSasw0y2eDArsz\n",
      "6FRwDxXsvSasw0y2eDArsz\n",
      "4KfSdst7rW39C0sfhArdrz\n"
     ]
    },
    {
     "name": "stderr",
     "output_type": "stream",
     "text": [
      "<>:6: SyntaxWarning: invalid escape sequence '\\_'\n",
      "<>:7: SyntaxWarning: invalid escape sequence '\\_'\n",
      "<>:6: SyntaxWarning: invalid escape sequence '\\_'\n",
      "<>:7: SyntaxWarning: invalid escape sequence '\\_'\n",
      "/var/folders/1l/pycwvg157rv_sn0s68n1_y8c0000gn/T/ipykernel_71268/4172587299.py:6: SyntaxWarning: invalid escape sequence '\\_'\n",
      "  'spotify\\_id: \"6FRwDxXsvSasw0y2eDArsz\")',\n",
      "/var/folders/1l/pycwvg157rv_sn0s68n1_y8c0000gn/T/ipykernel_71268/4172587299.py:7: SyntaxWarning: invalid escape sequence '\\_'\n",
      "  'rt (spotify\\_id: 4KfSdst7rW39C0sfhArdrz)'\n"
     ]
    }
   ],
   "source": [
    "import re\n",
    "\n",
    "# Sample longer strings\n",
    "longer_strings = [\n",
    "    \"1. \\\"Yesterday\\\" by The Beatles (page 17, row 1) - Spotify ID: 6FRwDxXsvSasw0y2eDArsz\",\n",
    "    'spotify\\_id: \"6FRwDxXsvSasw0y2eDArsz\")',\n",
    "    'rt (spotify\\_id: 4KfSdst7rW39C0sfhArdrz)'\n",
    "]\n",
    "\n",
    "# Regex pattern\n",
    "regex_pattern = r'\\b[A-Za-z0-9]{22}\\b'\n",
    "\n",
    "# Extract alphanumeric strings of length 22 from longer strings\n",
    "for string in longer_strings:\n",
    "    matches = re.findall(regex_pattern, string)\n",
    "    for match in matches:\n",
    "        print(match)\n"
   ]
  },
  {
   "cell_type": "code",
   "execution_count": 45,
   "metadata": {},
   "outputs": [
    {
     "name": "stdout",
     "output_type": "stream",
     "text": [
      "6FRwDxXsvSasw0y2eDArsz\n",
      "1bp2IO61zbQrbWNmKKxg3f\n",
      "5uvosCdMlFdTXhoazkTI5R\n",
      "6mHOcVtsHLMuesJkswc0GZ\n",
      "4KfSdst7rW39C0sfhArdrz\n",
      "3YuaBvuZqcwN3CEAyyoaei\n",
      "08mG3Y1vljYA6bvDt4Wqkj\n",
      "6s0yNmp4Hd32wGx40T6uL8\n",
      "4bz7uB4edifWKJXSDxwHcs\n",
      "1pUFYb9peWkK8m1WCKNRjp\n",
      "6DxKG8EHEqkWdKrFQSvm32\n",
      "67Hna13dNDkZvBpTXRIaOJ\n",
      "3qiyyUfYe7CRYLucrPmulD\n",
      "5uvosCdMlFdTXhoazkTI5R\n",
      "6mHOcVtsHLMuesJkswc0GZ\n"
     ]
    }
   ],
   "source": [
    "import re\n",
    "\n",
    "def extract_spotify_id(text):\n",
    "    pattern = r\"(?:Spotify ID|spotify_id)[:\\s]*\\\"?([a-zA-Z0-9_-]{22})\\\"?\"\n",
    "    match = re.search(pattern, text)\n",
    "    if match:\n",
    "        return match.group(1)\n",
    "    else:\n",
    "        return None\n",
    "\n",
    "\n",
    "# Test the function with your examples\n",
    "strings = [\n",
    "    \"\\\"Yesterday\\\" by The Beatles (page 17, row 1, spotify_id: \\\"6FRwDxXsvSasw0y2eDArsz\\\")\",\n",
    "    \"\\\"Imagine\\\" by John Lennon (page 17, row 2, spotify_id: \\\"1bp2IO61zbQrbWNmKKxg3f\\\")\",\n",
    "    \"\\\"Light My Fire\\\" by The Doors (spotify_id: 5uvosCdMlFdTXhoazkTI5R)\",\n",
    "    \"\\\"The Logical Song - 2010 Remastered\\\" by Supertramp (spotify_id: 6mHOcVtsHLMuesJkswc0GZ)\",\n",
    "    \"\\\"Barracuda\\\" by Heart (spotify_id: 4KfSdst7rW39C0sfhArdrz)\",\n",
    "    \"\\\"Like a Stone\\\" by Audioslave (spotify_id: 3YuaBvuZqcwN3CEAyyoaei)\",\n",
    "    \"\\\"Back In Black\\\" by AC/DC (spotify_id: 08mG3Y1vljYA6bvDt4Wqkj)\",\n",
    "    \"\\\"Kinetic (The Crystal Method vs. Dada Life)\\\" by The Crystal Method, with a danceability score of 0.616. Spotify ID: 6s0yNmp4Hd32wGx40T6uL8\",\n",
    "    \"\\\"Galvanize\\\" by The Chemical Brothers, with a danceability score of 0.745. Spotify ID: 4bz7uB4edifWKJXSDxwHcs\",\n",
    "    \"\\\"God Is a DJ\\\" by Faithless, with a danceability score of 0.606. Spotify ID: 1pUFYb9peWkK8m1WCKNRjp\",\n",
    "    \"\\\"In Yer Face - Bicep Remix\\\" by 808 State, with a danceability score of 0.616. Spotify ID: 6DxKG8EHEqkWdKrFQSvm32\",\n",
    "    \"\\\"Teardrop\\\" by Massive Attack, with a danceability score of 0.615. Spotify ID: 67Hna13dNDkZvBpTXRIaOJ\",\n",
    "    \"\\\"Hallelujah\\\" by Leonard Cohen (page 17, row 3, spotify_id: \\\"3qiyyUfYe7CRYLucrPmulD\\\")\",\n",
    "    \"\\\"Someone Like You\\\" by Adele (page 18, row 1, spotify_id: \\\"5uvosCdMlFdTXhoazkTI5R\\\")\",\n",
    "    \"\\\"Fix You\\\" by Coldplay (page 18, row 2, spotify_id: \\\"6mHOcVtsHLMuesJkswc0GZ\\\")\"\n",
    "]\n",
    "\n",
    "for string in strings:\n",
    "    print(extract_spotify_id(string))\n"
   ]
  },
  {
   "cell_type": "markdown",
   "metadata": {},
   "source": [
    "ignore below"
   ]
  },
  {
   "cell_type": "code",
   "execution_count": 46,
   "metadata": {},
   "outputs": [
    {
     "data": {
      "text/plain": [
       "22"
      ]
     },
     "execution_count": 46,
     "metadata": {},
     "output_type": "execute_result"
    }
   ],
   "source": [
    "len(\"6DxKG8EHEqkWdKrFQSvm32\")"
   ]
  },
  {
   "cell_type": "code",
   "execution_count": 47,
   "metadata": {},
   "outputs": [],
   "source": [
    "#convert to list of string\n",
    "\n"
   ]
  },
  {
   "cell_type": "code",
   "execution_count": 48,
   "metadata": {},
   "outputs": [
    {
     "name": "stdout",
     "output_type": "stream",
     "text": [
      "1. https://open.spotify.com/track/6FRwDxXsvSasw0y2eDArsz\n",
      "2. https://open.spotify.com/track/5uvosCdMlFdTXhoazkTI5R\n",
      "3. https://open.spotify.com/track/6mHOcVtsHLMuesJkswc0GZ\n",
      "4. https://open.spotify.com/track/0sgDEFq9oeC8ueOK0mR5IA\n",
      "5. https://open.spotify.com/track/4KfSdst7rW39C0sfhArdrz\n",
      "6. https://open.spotify.com/track/5uvosCdMlFdTXhoazkTI5R\n",
      "7. https://open.spotify.com/track/4KfSdst7rW39C0sfhArdrz\n",
      "8. https://open.spotify.com/track/3YuaBvuZqcwN3CEAyyoaei\n",
      "9. https://open.spotify.com/track/08mG3Y1vljYA6bvDt4Wqkj\n"
     ]
    }
   ],
   "source": [
    "# Function to convert Spotify IDs to clickable links\n",
    "def spotify_id_to_link(spotify_id):\n",
    "    return f\"https://open.spotify.com/track/{spotify_id}\"\n",
    "\n",
    "# Output the clickable links\n",
    "for idx, spotify_id in enumerate(spotify_ids, start=1):\n",
    "    link = spotify_id_to_link(spotify_id)\n",
    "    print(f\"{idx}. {link}\")\n"
   ]
  }
 ],
 "metadata": {
  "kernelspec": {
   "display_name": "Python 3",
   "language": "python",
   "name": "python3"
  },
  "language_info": {
   "codemirror_mode": {
    "name": "ipython",
    "version": 3
   },
   "file_extension": ".py",
   "mimetype": "text/x-python",
   "name": "python",
   "nbconvert_exporter": "python",
   "pygments_lexer": "ipython3",
   "version": "3.12.0"
  }
 },
 "nbformat": 4,
 "nbformat_minor": 2
}
