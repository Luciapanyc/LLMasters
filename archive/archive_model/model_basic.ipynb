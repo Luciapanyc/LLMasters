{
 "cells": [
  {
   "cell_type": "markdown",
   "metadata": {},
   "source": [
    "# 0. Imports"
   ]
  },
  {
   "cell_type": "code",
   "execution_count": 1,
   "metadata": {},
   "outputs": [],
   "source": [
    "from h2ogpte import H2OGPTE\n",
    "import numpy as np\n",
    "import pandas as pd\n",
    "import os"
   ]
  },
  {
   "cell_type": "markdown",
   "metadata": {},
   "source": [
    "# 1. Data Sets"
   ]
  },
  {
   "cell_type": "code",
   "execution_count": 2,
   "metadata": {},
   "outputs": [],
   "source": [
    "songs = pd.read_csv('../../data/songs_short.csv')\n",
    "user = pd.read_csv('../../data/user.csv')\n",
    "history = pd.read_csv('../../data/listening history.csv')"
   ]
  },
  {
   "cell_type": "code",
   "execution_count": 3,
   "metadata": {},
   "outputs": [
    {
     "name": "stdout",
     "output_type": "stream",
     "text": [
      "Songs:\n",
      "               spotify_id                          Song         Artist  Rank  \\\n",
      "0  4H2TRR9FjnnIwxGnIt9stO                  Killin' Time    Clint Black     1   \n",
      "1  6iy4PoAuZBMvtrlDX4VxC7               Check Yes Or No  George Strait     2   \n",
      "2  3oW6SWwGqiZSPTiAp7ZQoH  It's A Great Day To Be Alive   Travis Tritt     3   \n",
      "3  7lUE02KHkZM44BZgjCaWRO            Meet in the Middle    Diamond Rio     4   \n",
      "4  1ecIqo8pOc8S6y3l80iGxd                         Fancy  Reba McEntire     5   \n",
      "\n",
      "     Genre  \n",
      "0  country  \n",
      "1  country  \n",
      "2  country  \n",
      "3  country  \n",
      "4  country  \n",
      "Users:\n",
      "     UserID  Password                 Name Genre_1  Genre_2  Genre_3\n",
      "0     sibyl  7S02NXS3           Sibyl Bode    rock      r&b      pop\n",
      "1   eleazar  7S02NXS4    Eleazar Hettinger     rap     soul  hip hop\n",
      "2  geovanny  7S02NXS5        Geovanny Lang     rap  country     soul\n",
      "3     micah  7S02NXS6    Micah Satterfield    jazz      r&b     soul\n",
      "4  courtney  7S02NXS7  Courtney Schowalter    soul     folk    metal\n",
      "User listening history:\n",
      "  UserID              spotify_id Genre\n",
      "0  sibyl  2aoo2jlRnM3A0NyLQqMN2f  rock\n",
      "1  sibyl  31t0ATifZW5CW3XP2QUsUW   pop\n",
      "2  sibyl  1hGy2eLcmC8eKx7qr1tOqx   pop\n",
      "3  sibyl  6TlRNJaezOdzdECnQeRuMM   r&b\n",
      "4  sibyl  5d4l67BejhQZ9uQtTCfYfL   r&b\n"
     ]
    }
   ],
   "source": [
    "print('Songs:')\n",
    "print(songs.head())\n",
    "\n",
    "print('Users:')\n",
    "print(user.head())\n",
    "\n",
    "print('User listening history:')\n",
    "print(history.head())"
   ]
  },
  {
   "cell_type": "markdown",
   "metadata": {},
   "source": [
    "# 2. h2o Model"
   ]
  },
  {
   "cell_type": "code",
   "execution_count": 4,
   "metadata": {},
   "outputs": [],
   "source": [
    "client = H2OGPTE(\n",
    "    address='https://h2ogpte.genai.h2o.ai',\n",
    "    api_key='sk-985GNVY6C2hOrmixYxL9uJ9DtpLZFrNb42NmPAf5TN4WXXgu',\n",
    ")"
   ]
  },
  {
   "cell_type": "code",
   "execution_count": 5,
   "metadata": {},
   "outputs": [],
   "source": [
    "# Create Collection\n",
    "collection_id = client.create_collection(\n",
    "    name=\"MusicRecco\",\n",
    "    description=\"Music Reccommender\",\n",
    ")"
   ]
  },
  {
   "cell_type": "code",
   "execution_count": 6,
   "metadata": {},
   "outputs": [],
   "source": [
    "# Convert Data to Readable Format\n",
    "songs_txt = songs.to_csv(index=False)\n",
    "user_txt = user.to_csv(index=False)\n",
    "history_txt = history.to_csv(index=False)"
   ]
  },
  {
   "cell_type": "code",
   "execution_count": 7,
   "metadata": {},
   "outputs": [
    {
     "data": {
      "text/plain": [
       "Job(id='908aff7d-eb7c-4732-8cf2-99d990d1bd9f', name='Adding documents', passed=0.8571428571428571, failed=0.14285714285714285, progress=1.0, completed=True, canceled=False, date=datetime.datetime(2024, 3, 31, 12, 54, 57, tzinfo=TzInfo(UTC)), kind=<JobKind.IngestUploadsJob: 'IngestUploadsJob'>, statuses=[JobStatus(id='11beed69784441a39f2df02f0c3397c7', status='Indexing done.'), JobStatus(id='9e21acfab9f44dd386a0106f2766b55b', status='Indexing done.')], errors=['Job crashed: [Errno 503] Not Ready or Lagging'], last_update_date=datetime.datetime(2024, 3, 31, 12, 55, 23, tzinfo=TzInfo(UTC)), duration='26s', duration_seconds=26.0)"
      ]
     },
     "execution_count": 7,
     "metadata": {},
     "output_type": "execute_result"
    }
   ],
   "source": [
    "# Upload\n",
    "songs_data = client.upload('songs_short.txt', songs_txt.encode())\n",
    "user_data = client.upload('user.txt', user_txt.encode())\n",
    "history_data = client.upload('listening_history.txt', history_txt.encode())\n",
    "\n",
    "# Ingest the uploaded data\n",
    "client.ingest_uploads(collection_id, [songs_data, user_data, history_data])"
   ]
  },
  {
   "cell_type": "markdown",
   "metadata": {},
   "source": [
    "# 3. ChatBot Page"
   ]
  },
  {
   "cell_type": "code",
   "execution_count": 7,
   "metadata": {},
   "outputs": [],
   "source": [
    "#Initiate Chat\n",
    "chat_session_id = client.create_chat_session(collection_id)"
   ]
  },
  {
   "cell_type": "code",
   "execution_count": 9,
   "metadata": {},
   "outputs": [
    {
     "name": "stdout",
     "output_type": "stream",
     "text": [
      "Based on your user information, you enjoy rock, r&b, and pop music. Here are some song recommendations for you:\n",
      "\n",
      "1. \"Bohemian Rhapsody\" by Queen (rock)\n",
      "2. \"Purple Rain\" by Prince (r&b/pop)\n",
      "3. \"Mr. Brightside\" by The Killers (rock/pop)\n",
      "4. \"I Want it That Way\" by Backstreet Boys (pop)\n",
      "5. \"No Scrubs\" by TLC (r&b)\n"
     ]
    }
   ],
   "source": [
    "with client.connect(chat_session_id) as session:\n",
    "    # Simple Question for Document Collection\n",
    "        answer = session.query(\n",
    "        message=\"I am user sibyl. Reccomend me songs similar to my taste\",\n",
    "        system_prompt = 'Assume music and song to be the same word. When a question as for a similar music, recommend less than 5 music unless told otherwise. Find similar music based on genre and other factors such as danceability, loudness, speechiness and more. Just return the song name, unless stated otherwise.' ,\n",
    "        rag_config={\n",
    "            \"rag_type\": \"rag\",\n",
    "        },\n",
    "        ).content\n",
    "        print(answer)\n"
   ]
  }
 ],
 "metadata": {
  "kernelspec": {
   "display_name": "Python 3",
   "language": "python",
   "name": "python3"
  },
  "language_info": {
   "codemirror_mode": {
    "name": "ipython",
    "version": 3
   },
   "file_extension": ".py",
   "mimetype": "text/x-python",
   "name": "python",
   "nbconvert_exporter": "python",
   "pygments_lexer": "ipython3",
   "version": "3.11.4"
  }
 },
 "nbformat": 4,
 "nbformat_minor": 2
}
