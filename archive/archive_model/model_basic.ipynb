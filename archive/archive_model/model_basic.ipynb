{
 "cells": [
  {
   "cell_type": "markdown",
   "metadata": {},
   "source": [
    "# 0. Imports"
   ]
  },
  {
   "cell_type": "code",
   "execution_count": 1,
   "metadata": {},
   "outputs": [],
   "source": [
    "from h2ogpte import H2OGPTE\n",
    "import numpy as np\n",
    "import pandas as pd\n",
    "import os"
   ]
  },
  {
   "cell_type": "markdown",
   "metadata": {},
   "source": [
    "# 1. Data Sets"
   ]
  },
  {
   "cell_type": "code",
   "execution_count": 3,
   "metadata": {},
   "outputs": [],
   "source": [
    "songs = pd.read_csv('../../data/songs_short.csv')\n",
    "user = pd.read_csv('../../data/user.csv')\n",
    "history = pd.read_csv('../../data/listening_history.csv')"
   ]
  },
  {
   "cell_type": "code",
   "execution_count": null,
   "metadata": {},
   "outputs": [
    {
     "name": "stdout",
     "output_type": "stream",
     "text": [
      "Songs:\n",
      "               spotify_id                          Song         Artist  Rank  \\\n",
      "0  4H2TRR9FjnnIwxGnIt9stO                  Killin' Time    Clint Black     1   \n",
      "1  6iy4PoAuZBMvtrlDX4VxC7               Check Yes Or No  George Strait     2   \n",
      "2  3oW6SWwGqiZSPTiAp7ZQoH  It's A Great Day To Be Alive   Travis Tritt     3   \n",
      "3  7lUE02KHkZM44BZgjCaWRO            Meet in the Middle    Diamond Rio     4   \n",
      "4  1ecIqo8pOc8S6y3l80iGxd                         Fancy  Reba McEntire     5   \n",
      "\n",
      "     Genre  \n",
      "0  country  \n",
      "1  country  \n",
      "2  country  \n",
      "3  country  \n",
      "4  country  \n",
      "Users:\n",
      "     UserID  Password                 Name Genre_1  Genre_2  Genre_3\n",
      "0     sibyl  7S02NXS3           Sibyl Bode    rock      r&b      pop\n",
      "1   eleazar  7S02NXS4    Eleazar Hettinger     rap     soul  hip hop\n",
      "2  geovanny  7S02NXS5        Geovanny Lang     rap  country     soul\n",
      "3     micah  7S02NXS6    Micah Satterfield    jazz      r&b     soul\n",
      "4  courtney  7S02NXS7  Courtney Schowalter    soul     folk    metal\n",
      "User listening history:\n",
      "  UserID              spotify_id Genre\n",
      "0  sibyl  2aoo2jlRnM3A0NyLQqMN2f  rock\n",
      "1  sibyl  31t0ATifZW5CW3XP2QUsUW   pop\n",
      "2  sibyl  1hGy2eLcmC8eKx7qr1tOqx   pop\n",
      "3  sibyl  6TlRNJaezOdzdECnQeRuMM   r&b\n",
      "4  sibyl  5d4l67BejhQZ9uQtTCfYfL   r&b\n"
     ]
    }
   ],
   "source": [
    "print('Songs:')\n",
    "print(songs.head())\n",
    "\n",
    "print('Users:')\n",
    "print(user.head())\n",
    "\n",
    "print('User listening history:')\n",
    "print(history.head())"
   ]
  },
  {
   "cell_type": "markdown",
   "metadata": {},
   "source": [
    "# 2. h2o Model"
   ]
  },
  {
   "cell_type": "code",
   "execution_count": 21,
   "metadata": {},
   "outputs": [],
   "source": [
    "client = H2OGPTE(\n",
    "    address='https://h2ogpte.genai.h2o.ai',\n",
    "    api_key='sk-cfLVheKJ5GJMA7oEJoPKXPOul4aWtCk9fnMD0BiYBYjaH53J',\n",
    ")"
   ]
  },
  {
   "cell_type": "code",
   "execution_count": 22,
   "metadata": {},
   "outputs": [],
   "source": [
    "# Create Collection\n",
    "collection_id = client.create_collection(\n",
    "    name=\"MusicRecco\",\n",
    "    description=\"Music Reccommender\",\n",
    ")"
   ]
  },
  {
   "cell_type": "code",
   "execution_count": 23,
   "metadata": {},
   "outputs": [],
   "source": [
    "# Convert Data to Readable Format\n",
    "songs_txt = songs.to_csv(index=False)\n",
    "user_txt = user.to_csv(index=False)\n",
    "history_txt = history.to_csv(index=False)"
   ]
  },
  {
   "cell_type": "code",
   "execution_count": 24,
   "metadata": {},
   "outputs": [
    {
     "data": {
      "text/plain": [
       "Job(id='782b4a5a-0694-4230-92f6-85033c866317', name='Adding documents', passed=1.0, failed=0.0, progress=1.0, completed=True, canceled=False, date=datetime.datetime(2024, 4, 7, 4, 18, 10, tzinfo=TzInfo(UTC)), kind=<JobKind.IngestUploadsJob: 'IngestUploadsJob'>, statuses=[JobStatus(id='a3624524b3444461893c715976f10ce6', status='Indexing done.'), JobStatus(id='eb7cc35f5c284ae38b2df4a30a90d0ae', status='Collecting done.')], errors=[], last_update_date=datetime.datetime(2024, 4, 7, 4, 18, 32, tzinfo=TzInfo(UTC)), duration='22s', duration_seconds=22.0)"
      ]
     },
     "execution_count": 24,
     "metadata": {},
     "output_type": "execute_result"
    }
   ],
   "source": [
    "# Upload\n",
    "songs_data = client.upload('songs_short.txt', songs_txt.encode())\n",
    "user_data = client.upload('user.txt', user_txt.encode())\n",
    "history_data = client.upload('listening_history.txt', history_txt.encode())\n",
    "\n",
    "# Ingest the uploaded data\n",
    "client.ingest_uploads(collection_id, [songs_data, user_data, history_data])"
   ]
  },
  {
   "cell_type": "markdown",
   "metadata": {},
   "source": [
    "# 3. ChatBot Page"
   ]
  },
  {
   "cell_type": "code",
   "execution_count": 56,
   "metadata": {},
   "outputs": [],
   "source": [
    "import re"
   ]
  },
  {
   "cell_type": "code",
   "execution_count": 25,
   "metadata": {},
   "outputs": [],
   "source": [
    "#Initiate Chat\n",
    "chat_session_id = client.create_chat_session(collection_id)"
   ]
  },
  {
   "cell_type": "code",
   "execution_count": null,
   "metadata": {},
   "outputs": [],
   "source": [
    "'Recommend less than 5 music unless told otherwise. Return only the song name, unless stated otherwise. Return spotify_id of each recommended music at the end of each recomendation'"
   ]
  },
  {
   "cell_type": "code",
   "execution_count": 124,
   "metadata": {},
   "outputs": [],
   "source": [
    "def spot_extraction(msg):\n",
    "    with client.connect(chat_session_id) as session:\n",
    "        # Simple Question for Document Collection\n",
    "            answer = session.query(\n",
    "            message= msg,\n",
    "            system_prompt ='Recommend not more than 5 music. MUST return spotify_id at the end of each song.',\n",
    "            rag_config={\n",
    "                \"rag_type\": \"rag\",\n",
    "            },\n",
    "            ).content\n",
    "    return answer"
   ]
  },
  {
   "cell_type": "code",
   "execution_count": 147,
   "metadata": {},
   "outputs": [
    {
     "name": "stdout",
     "output_type": "stream",
     "text": [
      "Here are five songs that you might find comforting when you're feeling down, based on the information provided in the document:\n",
      "\n",
      "1. \"Yesterday\" by The Beatles (page 17, row 1, spotify\\_id: \"6FRwDxXsvSasw0y2eDArsz\")\n",
      "2. \"Imagine\" by John Lennon (page 17, row 2, spotify\\_id: \"1bp2IO61zbQrbWNmKKxg3f\")\n",
      "3. \"Hallelujah\" by Leonard Cohen (page 17, row 3, spotify\\_id: \"3qiyyUfYe7CRYLucrPmulD\")\n",
      "4. \"Someone Like You\" by Adele (page 18, row 1, spotify\\_id: \"5uvosCdMlFdTXhoazkTI5R\")\n",
      "5. \"Fix You\" by Coldplay (page 18, row 2, spotify\\_id: \"6mHOcVtsHLMuesJkswc0GZ\")\n",
      "\n",
      "Please note that these song recommendations are based solely on the data provided in the document and do not take into account personal preferences or musical tastes.\n"
     ]
    }
   ],
   "source": [
    "ans = spot_extraction(\"What are some music that i can listen to when im sad\")\n",
    "print(ans)"
   ]
  },
  {
   "cell_type": "code",
   "execution_count": 148,
   "metadata": {},
   "outputs": [
    {
     "name": "stdout",
     "output_type": "stream",
     "text": [
      "Based on the data provided, here are five songs from different artists that I recommend:\n",
      "\n",
      "1. \"Light My Fire\" by The Doors (spotify\\_id: 5uvosCdMlFdTXhoazkTI5R)\n",
      "2. \"The Logical Song - 2010 Remastered\" by Supertramp (spotify\\_id: 6mHOcVtsHLMuesJkswc0GZ)\n",
      "3. \"Barracuda\" by Heart (spotify\\_id: 4KfSdst7rW39C0sfhArdrz)\n",
      "4. \"Like a Stone\" by Audioslave (spotify\\_id: 3YuaBvuZqcwN3CEAyyoaei)\n",
      "5. \"Back In Black\" by AC/DC (spotify\\_id: 08mG3Y1vljYA6bvDt4Wqkj)\n",
      "\n",
      "These songs are from well-known rock bands and have high popularity scores according to the data.\n"
     ]
    }
   ],
   "source": [
    "ans1 = spot_extraction(\"What are some music that you recommend me\")\n",
    "print(ans1)"
   ]
  },
  {
   "cell_type": "code",
   "execution_count": 129,
   "metadata": {},
   "outputs": [],
   "source": [
    "ans2 = spot_extraction(\"music that i can dance to the most. Return the spotify id too\")"
   ]
  },
  {
   "cell_type": "code",
   "execution_count": 149,
   "metadata": {},
   "outputs": [
    {
     "name": "stdout",
     "output_type": "stream",
     "text": [
      "Based on the \"danceability\" feature in the given dataset, here are five songs that have high danceability scores:\n",
      "\n",
      "1. \"Kinetic (The Crystal Method vs. Dada Life)\" by The Crystal Method, with a danceability score of 0.616. Spotify ID: 6s0yNmp4Hd32wGx40T6uL8\n",
      "2. \"Galvanize\" by The Chemical Brothers, with a danceability score of 0.745. Spotify ID: 4bz7uB4edifWKJXSDxwHcs\n",
      "3. \"God Is a DJ\" by Faithless, with a danceability score of 0.606. Spotify ID: 1pUFYb9peWkK8m1WCKNRjp\n",
      "4. \"In Yer Face - Bicep Remix\" by 808 State, with a danceability score of 0.616. Spotify ID: 6DxKG8EHEqkWdKrFQSvm32\n",
      "5. \"Teardrop\" by Massive Attack, with a danceability score of 0.615. Spotify ID: 67Hna13dNDkZvBpTXRIaOJ\n",
      "\n",
      "Note that these recommendations are based solely on the danceability metric and do not take into account other factors such as genre, tempo, or personal preference.\n"
     ]
    }
   ],
   "source": [
    "print(ans2)"
   ]
  },
  {
   "cell_type": "code",
   "execution_count": 206,
   "metadata": {},
   "outputs": [],
   "source": [
    "def make_link(text):\n",
    "    lines = text.split('\\n')\n",
    "    lines = [line.strip() for line in lines if line.strip()]\n",
    "    regex_pattern =  r'\\b[A-Za-z0-9]{22}\\b'\n",
    "\n",
    "    # Extracting Spotify IDs\n",
    "    spotify_ids = []\n",
    "    for string in lines:\n",
    "        match = re.findall(regex_pattern, string)\n",
    "        if match:\n",
    "            spotify_ids.append(match)\n",
    "    \n",
    "    #output clickable links\n",
    "    for idx, spotify_id in enumerate(spotify_ids, start=1):\n",
    "        link = f\"https://open.spotify.com/track/{spotify_id[0]}\"\n",
    "        print(f\"{link}\")\n"
   ]
  },
  {
   "cell_type": "code",
   "execution_count": 207,
   "metadata": {},
   "outputs": [
    {
     "name": "stdout",
     "output_type": "stream",
     "text": [
      "https://open.spotify.com/track/6FRwDxXsvSasw0y2eDArsz\n",
      "https://open.spotify.com/track/1bp2IO61zbQrbWNmKKxg3f\n",
      "https://open.spotify.com/track/3qiyyUfYe7CRYLucrPmulD\n",
      "https://open.spotify.com/track/5uvosCdMlFdTXhoazkTI5R\n",
      "https://open.spotify.com/track/6mHOcVtsHLMuesJkswc0GZ\n"
     ]
    }
   ],
   "source": [
    "make_link(ans)"
   ]
  },
  {
   "cell_type": "code",
   "execution_count": 167,
   "metadata": {},
   "outputs": [
    {
     "name": "stdout",
     "output_type": "stream",
     "text": [
      "['6FRwDxXsvSasw0y2eDArsz', '5uvosCdMlFdTXhoazkTI5R', '6mHOcVtsHLMuesJkswc0GZ', '0sgDEFq9oeC8ueOK0mR5IA', '4KfSdst7rW39C0sfhArdrz', '5uvosCdMlFdTXhoazkTI5R', '4KfSdst7rW39C0sfhArdrz', '3YuaBvuZqcwN3CEAyyoaei', '08mG3Y1vljYA6bvDt4Wqkj']\n"
     ]
    }
   ],
   "source": [
    "import re\n",
    "\n",
    "def extract_spotify_ids(strings):\n",
    "    # Regular expression pattern to match Spotify IDs\n",
    "    pattern = r\"(?:Spotify ID|spotify_id)[:\\s]*\\\"?([a-zA-Z0-9_-]{22})\\\"?\"\n",
    "\n",
    "    # Extracting Spotify IDs\n",
    "    spotify_ids = []\n",
    "    for string in strings:\n",
    "        match = re.search(pattern, string)\n",
    "        if match:\n",
    "            spotify_ids.append(match.group(1))\n",
    "\n",
    "    return spotify_ids\n",
    "\n",
    "# Example usage:\n",
    "strings = [\n",
    "    \"1. \\\"Yesterday\\\" by The Beatles (page 17, row 1) - Spotify ID: 6FRwDxXsvSasw0y2eDArsz\",\n",
    "    \"2. \\\"The Sound of Silence\\\" by Simon & Garfunkel (page 18, row 2) - Spotify ID: 5uvosCdMlFdTXhoazkTI5R\",\n",
    "    \"3. \\\"Imagine\\\" by John Lennon (page 19, row 1) - Spotify ID: 6mHOcVtsHLMuesJkswc0GZ\",\n",
    "    \"4. \\\"Hallelujah\\\" by Leonard Cohen (page 20, row 2) - Spotify ID: 0sgDEFq9oeC8ueOK0mR5IA\",\n",
    "    \"5. \\\"Someone Like You\\\" by Adele (page 20, row 3) - Spotify ID: 4KfSdst7rW39C0sfhArdrz\",\n",
    "    \"6. \\\"Light My Fire\\\" by The Doors (spotify_id: 5uvosCdMlFdTXhoazkTI5R)\",\n",
    "    \"7. \\\"The Logical Song - 2010 Remastered\\\" by Supertramp (spotify_id: mHOcVtsHLMuesJkswc0GZ)\",\n",
    "    \"8. \\\"Barracuda\\\" by Heart (spotify_id: 4KfSdst7rW39C0sfhArdrz)\",\n",
    "    \"9. \\\"Like a Stone\\\" by Audioslave (spotify_id: 3YuaBvuZqcwN3CEAyyoaei)\",\n",
    "    \"10. \\\"Back In Black\\\" by AC/DC (spotify_id: 08mG3Y1vljYA6bvDt4Wqkj)\"\n",
    "]\n",
    "\n",
    "spotify_ids = extract_spotify_ids(strings)\n",
    "print(spotify_ids)\n"
   ]
  },
  {
   "cell_type": "code",
   "execution_count": 189,
   "metadata": {},
   "outputs": [
    {
     "name": "stdout",
     "output_type": "stream",
     "text": [
      "6FRwDxXsvSasw0y2eDArsz\n",
      "6FRwDxXsvSasw0y2eDArsz\n",
      "4KfSdst7rW39C0sfhArdrz\n"
     ]
    },
    {
     "name": "stderr",
     "output_type": "stream",
     "text": [
      "<>:6: SyntaxWarning: invalid escape sequence '\\_'\n",
      "<>:7: SyntaxWarning: invalid escape sequence '\\_'\n",
      "<>:6: SyntaxWarning: invalid escape sequence '\\_'\n",
      "<>:7: SyntaxWarning: invalid escape sequence '\\_'\n",
      "/var/folders/1l/pycwvg157rv_sn0s68n1_y8c0000gn/T/ipykernel_84841/4172587299.py:6: SyntaxWarning: invalid escape sequence '\\_'\n",
      "  'spotify\\_id: \"6FRwDxXsvSasw0y2eDArsz\")',\n",
      "/var/folders/1l/pycwvg157rv_sn0s68n1_y8c0000gn/T/ipykernel_84841/4172587299.py:7: SyntaxWarning: invalid escape sequence '\\_'\n",
      "  'rt (spotify\\_id: 4KfSdst7rW39C0sfhArdrz)'\n"
     ]
    }
   ],
   "source": [
    "import re\n",
    "\n",
    "# Sample longer strings\n",
    "longer_strings = [\n",
    "    \"1. \\\"Yesterday\\\" by The Beatles (page 17, row 1) - Spotify ID: 6FRwDxXsvSasw0y2eDArsz\",\n",
    "    'spotify\\_id: \"6FRwDxXsvSasw0y2eDArsz\")',\n",
    "    'rt (spotify\\_id: 4KfSdst7rW39C0sfhArdrz)'\n",
    "]\n",
    "\n",
    "# Regex pattern\n",
    "regex_pattern = r'\\b[A-Za-z0-9]{22}\\b'\n",
    "\n",
    "# Extract alphanumeric strings of length 22 from longer strings\n",
    "for string in longer_strings:\n",
    "    matches = re.findall(regex_pattern, string)\n",
    "    for match in matches:\n",
    "        print(match)\n"
   ]
  },
  {
   "cell_type": "code",
   "execution_count": 166,
   "metadata": {},
   "outputs": [
    {
     "name": "stdout",
     "output_type": "stream",
     "text": [
      "6FRwDxXsvSasw0y2eDArsz\n",
      "1bp2IO61zbQrbWNmKKxg3f\n",
      "5uvosCdMlFdTXhoazkTI5R\n",
      "6mHOcVtsHLMuesJkswc0GZ\n",
      "4KfSdst7rW39C0sfhArdrz\n",
      "3YuaBvuZqcwN3CEAyyoaei\n",
      "08mG3Y1vljYA6bvDt4Wqkj\n",
      "6s0yNmp4Hd32wGx40T6uL8\n",
      "4bz7uB4edifWKJXSDxwHcs\n",
      "1pUFYb9peWkK8m1WCKNRjp\n",
      "6DxKG8EHEqkWdKrFQSvm32\n",
      "67Hna13dNDkZvBpTXRIaOJ\n",
      "3qiyyUfYe7CRYLucrPmulD\n",
      "5uvosCdMlFdTXhoazkTI5R\n",
      "6mHOcVtsHLMuesJkswc0GZ\n"
     ]
    }
   ],
   "source": [
    "import re\n",
    "\n",
    "def extract_spotify_id(text):\n",
    "    pattern = r\"(?:Spotify ID|spotify_id)[:\\s]*\\\"?([a-zA-Z0-9_-]{22})\\\"?\"\n",
    "    match = re.search(pattern, text)\n",
    "    if match:\n",
    "        return match.group(1)\n",
    "    else:\n",
    "        return None\n",
    "\n",
    "\n",
    "# Test the function with your examples\n",
    "strings = [\n",
    "    \"\\\"Yesterday\\\" by The Beatles (page 17, row 1, spotify_id: \\\"6FRwDxXsvSasw0y2eDArsz\\\")\",\n",
    "    \"\\\"Imagine\\\" by John Lennon (page 17, row 2, spotify_id: \\\"1bp2IO61zbQrbWNmKKxg3f\\\")\",\n",
    "    \"\\\"Light My Fire\\\" by The Doors (spotify_id: 5uvosCdMlFdTXhoazkTI5R)\",\n",
    "    \"\\\"The Logical Song - 2010 Remastered\\\" by Supertramp (spotify_id: 6mHOcVtsHLMuesJkswc0GZ)\",\n",
    "    \"\\\"Barracuda\\\" by Heart (spotify_id: 4KfSdst7rW39C0sfhArdrz)\",\n",
    "    \"\\\"Like a Stone\\\" by Audioslave (spotify_id: 3YuaBvuZqcwN3CEAyyoaei)\",\n",
    "    \"\\\"Back In Black\\\" by AC/DC (spotify_id: 08mG3Y1vljYA6bvDt4Wqkj)\",\n",
    "    \"\\\"Kinetic (The Crystal Method vs. Dada Life)\\\" by The Crystal Method, with a danceability score of 0.616. Spotify ID: 6s0yNmp4Hd32wGx40T6uL8\",\n",
    "    \"\\\"Galvanize\\\" by The Chemical Brothers, with a danceability score of 0.745. Spotify ID: 4bz7uB4edifWKJXSDxwHcs\",\n",
    "    \"\\\"God Is a DJ\\\" by Faithless, with a danceability score of 0.606. Spotify ID: 1pUFYb9peWkK8m1WCKNRjp\",\n",
    "    \"\\\"In Yer Face - Bicep Remix\\\" by 808 State, with a danceability score of 0.616. Spotify ID: 6DxKG8EHEqkWdKrFQSvm32\",\n",
    "    \"\\\"Teardrop\\\" by Massive Attack, with a danceability score of 0.615. Spotify ID: 67Hna13dNDkZvBpTXRIaOJ\",\n",
    "    \"\\\"Hallelujah\\\" by Leonard Cohen (page 17, row 3, spotify_id: \\\"3qiyyUfYe7CRYLucrPmulD\\\")\",\n",
    "    \"\\\"Someone Like You\\\" by Adele (page 18, row 1, spotify_id: \\\"5uvosCdMlFdTXhoazkTI5R\\\")\",\n",
    "    \"\\\"Fix You\\\" by Coldplay (page 18, row 2, spotify_id: \\\"6mHOcVtsHLMuesJkswc0GZ\\\")\"\n",
    "]\n",
    "\n",
    "for string in strings:\n",
    "    print(extract_spotify_id(string))\n"
   ]
  },
  {
   "cell_type": "markdown",
   "metadata": {},
   "source": [
    "ignore below"
   ]
  },
  {
   "cell_type": "code",
   "execution_count": 161,
   "metadata": {},
   "outputs": [
    {
     "data": {
      "text/plain": [
       "22"
      ]
     },
     "execution_count": 161,
     "metadata": {},
     "output_type": "execute_result"
    }
   ],
   "source": [
    "len(\"6DxKG8EHEqkWdKrFQSvm32\")"
   ]
  },
  {
   "cell_type": "code",
   "execution_count": null,
   "metadata": {},
   "outputs": [],
   "source": [
    "#convert to list of string\n",
    "\n"
   ]
  },
  {
   "cell_type": "code",
   "execution_count": 90,
   "metadata": {},
   "outputs": [
    {
     "name": "stdout",
     "output_type": "stream",
     "text": [
      "1. https://open.spotify.com/track/s\n",
      "2. https://open.spotify.com/track/p\n",
      "3. https://open.spotify.com/track/o\n",
      "4. https://open.spotify.com/track/t\n",
      "5. https://open.spotify.com/track/i\n",
      "6. https://open.spotify.com/track/f\n",
      "7. https://open.spotify.com/track/y\n",
      "8. https://open.spotify.com/track/_\n",
      "9. https://open.spotify.com/track/i\n",
      "10. https://open.spotify.com/track/d\n",
      "11. https://open.spotify.com/track/s\n"
     ]
    }
   ],
   "source": [
    "# Function to convert Spotify IDs to clickable links\n",
    "def spotify_id_to_link(spotify_id):\n",
    "    return f\"https://open.spotify.com/track/{spotify_id}\"\n",
    "\n",
    "# Output the clickable links\n",
    "for idx, spotify_id in enumerate(spotify_ids, start=1):\n",
    "    link = spotify_id_to_link(spotify_id)\n",
    "    print(f\"{idx}. {link}\")\n"
   ]
  }
 ],
 "metadata": {
  "kernelspec": {
   "display_name": "Python 3",
   "language": "python",
   "name": "python3"
  },
  "language_info": {
   "codemirror_mode": {
    "name": "ipython",
    "version": 3
   },
   "file_extension": ".py",
   "mimetype": "text/x-python",
   "name": "python",
   "nbconvert_exporter": "python",
   "pygments_lexer": "ipython3",
   "version": "3.12.0"
  }
 },
 "nbformat": 4,
 "nbformat_minor": 2
}
